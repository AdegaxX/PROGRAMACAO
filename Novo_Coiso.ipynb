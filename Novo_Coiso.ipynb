{
  "nbformat": 4,
  "nbformat_minor": 0,
  "metadata": {
    "colab": {
      "provenance": [],
      "authorship_tag": "ABX9TyMN1Xc5g9ZmdJkF28Det3GP",
      "include_colab_link": true
    },
    "kernelspec": {
      "name": "python3",
      "display_name": "Python 3"
    },
    "language_info": {
      "name": "python"
    }
  },
  "cells": [
    {
      "cell_type": "markdown",
      "metadata": {
        "id": "view-in-github",
        "colab_type": "text"
      },
      "source": [
        "<a href=\"https://colab.research.google.com/github/AdegaxX/PROGRAMACAO/blob/main/Novo_Coiso.ipynb\" target=\"_parent\"><img src=\"https://colab.research.google.com/assets/colab-badge.svg\" alt=\"Open In Colab\"/></a>"
      ]
    },
    {
      "cell_type": "code",
      "execution_count": null,
      "metadata": {
        "colab": {
          "base_uri": "https://localhost:8080/"
        },
        "id": "Y7qnxUcm7zlt",
        "outputId": "e82e6e63-bb88-4775-ca46-e11103e9a113"
      },
      "outputs": [
        {
          "output_type": "stream",
          "name": "stdout",
          "text": [
            "['a', 'b', 'c']\n",
            "['a', 'z', 'c']\n"
          ]
        }
      ],
      "source": [
        "x = ['a', 'b', 'c']\n",
        "y = list(x)\n",
        "y[1] = 'z'\n",
        "print(x)\n",
        "print(y)"
      ]
    },
    {
      "cell_type": "code",
      "source": [
        "fam = [1.56, 1.75, 1.80, 1.68]\n",
        "max(fam) # Uma função que exibe o maior valor de um elemento"
      ],
      "metadata": {
        "colab": {
          "base_uri": "https://localhost:8080/"
        },
        "id": "_cKNjyJtGU6R",
        "outputId": "d50d418a-5d7f-45e9-da6a-49f4a29b6d4a"
      },
      "execution_count": null,
      "outputs": [
        {
          "output_type": "execute_result",
          "data": {
            "text/plain": [
              "1.8"
            ]
          },
          "metadata": {},
          "execution_count": 1
        }
      ]
    },
    {
      "cell_type": "code",
      "source": [
        "print(round(1.70, 1)) # Arredonda os valores\n",
        "print(round(2.45)) # Arredonda deixando somente em inteiro"
      ],
      "metadata": {
        "colab": {
          "base_uri": "https://localhost:8080/"
        },
        "id": "DjzfrGOYG8Ix",
        "outputId": "b6029c0e-cec1-4b7d-8c8f-5c6eb492a0ba"
      },
      "execution_count": null,
      "outputs": [
        {
          "output_type": "stream",
          "name": "stdout",
          "text": [
            "1.7\n",
            "2\n"
          ]
        }
      ]
    },
    {
      "cell_type": "code",
      "source": [
        "help(round) # O 'help()' mostra para que a função é usada"
      ],
      "metadata": {
        "colab": {
          "base_uri": "https://localhost:8080/"
        },
        "id": "BPSkaej1HpVp",
        "outputId": "ae1f3715-c802-4e3f-a638-d681bc743376"
      },
      "execution_count": null,
      "outputs": [
        {
          "output_type": "stream",
          "name": "stdout",
          "text": [
            "Help on built-in function round in module builtins:\n",
            "\n",
            "round(number, ndigits=None)\n",
            "    Round a number to a given precision in decimal digits.\n",
            "    \n",
            "    The return value is an integer if ndigits is omitted or None.  Otherwise\n",
            "    the return value has the same type as the number.  ndigits may be negative.\n",
            "\n"
          ]
        }
      ]
    },
    {
      "cell_type": "code",
      "source": [
        "var1 = [1, 2, 3, 4]\n",
        "var2 = True\n",
        "\n",
        "print(type(var1))\n",
        "print(len(var1)) # Mostra o tamanho da variável 'var1'\n",
        "out2 = int(var2)\n",
        "print(out2)"
      ],
      "metadata": {
        "colab": {
          "base_uri": "https://localhost:8080/"
        },
        "id": "YZ1ljORbHuSI",
        "outputId": "ba398d93-96a0-4f25-9585-f67e45d29335"
      },
      "execution_count": null,
      "outputs": [
        {
          "output_type": "stream",
          "name": "stdout",
          "text": [
            "<class 'list'>\n",
            "4\n",
            "1\n"
          ]
        }
      ]
    },
    {
      "cell_type": "code",
      "source": [
        "first = [11.25, 18.0, 20.0]\n",
        "second = [10.75, 9.50]\n",
        "\n",
        "full = first + second # Concatenação das duas listas 'first' e 'second'\n",
        "print(full)\n",
        "\n",
        "full_sorted = sorted(full, reverse = True) # \"sorted()\" coloca um elemento, como uma lista, em ordem crescente ou decrescente utilizando o 'reverse = True' (para decrescente) e 'reverse = False' (para crescente)\n",
        "print(full_sorted)\n",
        "\n",
        "full_sorted2 = sorted(full) # Para deixar o \"sorted\" em forma crescente, não precisa utilizar o 'reverse = False', basta deixar em branco\n",
        "print(full_sorted2)"
      ],
      "metadata": {
        "colab": {
          "base_uri": "https://localhost:8080/"
        },
        "id": "yVVSOMcNKGx6",
        "outputId": "9a2e601a-abd3-4056-c9bc-9dff781433a7"
      },
      "execution_count": null,
      "outputs": [
        {
          "output_type": "stream",
          "name": "stdout",
          "text": [
            "[11.25, 18.0, 20.0, 10.75, 9.5]\n",
            "[20.0, 18.0, 11.25, 10.75, 9.5]\n",
            "[9.5, 10.75, 11.25, 18.0, 20.0]\n"
          ]
        }
      ]
    },
    {
      "cell_type": "code",
      "source": [
        "listA = ['Pai', 1.68, 'Pai', 1.70, 'mãe', 1.65, 'irmã', 1.70]\n",
        "\n",
        "print(listA.index('Pai')) # Mostra a localização do elemento na lista\n",
        "\n",
        "print(listA.count(1.70)) # Verifica quantos elementos repetidos tem na lista\n",
        "print(listA.count('Pai'))\n",
        "print(listA.count('irmão'))"
      ],
      "metadata": {
        "colab": {
          "base_uri": "https://localhost:8080/"
        },
        "id": "FztTPUPlNQXn",
        "outputId": "06f6b2ee-4481-4459-c117-f36507a1c9b4"
      },
      "execution_count": null,
      "outputs": [
        {
          "output_type": "stream",
          "name": "stdout",
          "text": [
            "0\n",
            "2\n",
            "2\n",
            "0\n"
          ]
        }
      ]
    },
    {
      "cell_type": "code",
      "source": [
        "listA = ['Pai', 1.68, 'Pai', 1.70, 'mãe', 1.65, 'irmã', 1.70]\n",
        "\n",
        "listA.append('irmão') # Adiciona um elemento no fim da lista/variável\n",
        "listA.append(1.75)\n",
        "print(listA)"
      ],
      "metadata": {
        "colab": {
          "base_uri": "https://localhost:8080/"
        },
        "id": "f1Jv5COZOhfP",
        "outputId": "98fb71bb-d61b-441d-a8d9-5c85346b8cb4"
      },
      "execution_count": null,
      "outputs": [
        {
          "output_type": "stream",
          "name": "stdout",
          "text": [
            "['Pai', 1.68, 'Pai', 1.7, 'mãe', 1.65, 'irmã', 1.7, 'irmão', 1.75]\n"
          ]
        }
      ]
    },
    {
      "cell_type": "code",
      "source": [
        "sister = 'liz'\n",
        "\n",
        "print(sister.capitalize()) # Coloca o elemento da variável 'sister' com letra maiúscula\n",
        "\n",
        "print(sister.replace('z', 'sa')) # Altera o 'z' pelo 'sa' no elemento da variável 'sister'"
      ],
      "metadata": {
        "colab": {
          "base_uri": "https://localhost:8080/"
        },
        "id": "wq26q4YrPSYt",
        "outputId": "029bebf1-de1a-4281-b2df-2392f80720c1"
      },
      "execution_count": null,
      "outputs": [
        {
          "output_type": "stream",
          "name": "stdout",
          "text": [
            "Liz\n",
            "lisa\n"
          ]
        }
      ]
    },
    {
      "cell_type": "code",
      "source": [
        "place = 'Poolhouse'\n",
        "print(place)\n",
        "place_up = place.upper()\n",
        "\n",
        "print(place_up)\n",
        "\n",
        "print(place.count('o'))"
      ],
      "metadata": {
        "colab": {
          "base_uri": "https://localhost:8080/"
        },
        "id": "zvEbpQldQ6Eu",
        "outputId": "b313e28b-036a-4198-92c0-b36de0db9b75"
      },
      "execution_count": null,
      "outputs": [
        {
          "output_type": "stream",
          "name": "stdout",
          "text": [
            "Poolhouse\n",
            "POOLHOUSE\n",
            "3\n"
          ]
        }
      ]
    },
    {
      "cell_type": "code",
      "source": [
        "# 4) Na linha 5 print o index que contém o número 20 com o método index().\n",
        "are = [11.25, 18.0, 20.0, 10.75, 9.50]\n",
        "print(are.index(20.0))"
      ],
      "metadata": {
        "colab": {
          "base_uri": "https://localhost:8080/"
        },
        "id": "6sZISD4OmGFv",
        "outputId": "ce19d05e-ad31-4d90-ad7e-e72b65a4d6a3"
      },
      "execution_count": null,
      "outputs": [
        {
          "output_type": "stream",
          "name": "stdout",
          "text": [
            "2\n"
          ]
        }
      ]
    },
    {
      "cell_type": "code",
      "source": [
        "# 5) Usando o método count(), mostre via print o número de vezes que 9.50 aparece na lista.\n",
        "are = are = [11.25, 18.0, 20.0, 10.75, 9.50]\n",
        "print(are.count(9.50))"
      ],
      "metadata": {
        "colab": {
          "base_uri": "https://localhost:8080/"
        },
        "id": "s94ukNbWnMAg",
        "outputId": "bd071502-861c-4452-8ce0-17f180e78b4d"
      },
      "execution_count": null,
      "outputs": [
        {
          "output_type": "stream",
          "name": "stdout",
          "text": [
            "1\n"
          ]
        }
      ]
    },
    {
      "cell_type": "code",
      "source": [
        "pip install numpy"
      ],
      "metadata": {
        "colab": {
          "base_uri": "https://localhost:8080/"
        },
        "id": "03Db7yFvvPOB",
        "outputId": "5854f6ec-7f98-4de2-de3f-ed4748c8abe9"
      },
      "execution_count": null,
      "outputs": [
        {
          "output_type": "stream",
          "name": "stdout",
          "text": [
            "Looking in indexes: https://pypi.org/simple, https://us-python.pkg.dev/colab-wheels/public/simple/\n",
            "Requirement already satisfied: numpy in /usr/local/lib/python3.9/dist-packages (1.22.4)\n"
          ]
        }
      ]
    },
    {
      "cell_type": "code",
      "source": [
        "pip install pydicom"
      ],
      "metadata": {
        "colab": {
          "base_uri": "https://localhost:8080/"
        },
        "id": "nYk9hYUavn9q",
        "outputId": "fe5646d8-c742-4294-ed0c-8cc280be8512"
      },
      "execution_count": null,
      "outputs": [
        {
          "output_type": "stream",
          "name": "stdout",
          "text": [
            "Looking in indexes: https://pypi.org/simple, https://us-python.pkg.dev/colab-wheels/public/simple/\n",
            "Collecting pydicom\n",
            "  Downloading pydicom-2.3.1-py3-none-any.whl (2.0 MB)\n",
            "\u001b[2K     \u001b[90m━━━━━━━━━━━━━━━━━━━━━━━━━━━━━━━━━━━━━━━━\u001b[0m \u001b[32m2.0/2.0 MB\u001b[0m \u001b[31m45.6 MB/s\u001b[0m eta \u001b[36m0:00:00\u001b[0m\n",
            "\u001b[?25hInstalling collected packages: pydicom\n",
            "Successfully installed pydicom-2.3.1\n"
          ]
        }
      ]
    },
    {
      "cell_type": "code",
      "source": [
        "import numpy\n",
        "array([1, 2, 3])"
      ],
      "metadata": {
        "colab": {
          "base_uri": "https://localhost:8080/",
          "height": 183
        },
        "id": "3pmbOxXxv8XY",
        "outputId": "3f604e4b-20d4-4740-895d-5af2ce4f4b84"
      },
      "execution_count": null,
      "outputs": [
        {
          "output_type": "error",
          "ename": "NameError",
          "evalue": "ignored",
          "traceback": [
            "\u001b[0;31m---------------------------------------------------------------------------\u001b[0m",
            "\u001b[0;31mNameError\u001b[0m                                 Traceback (most recent call last)",
            "\u001b[0;32m<ipython-input-10-520516189d23>\u001b[0m in \u001b[0;36m<cell line: 2>\u001b[0;34m()\u001b[0m\n\u001b[1;32m      1\u001b[0m \u001b[0;32mimport\u001b[0m \u001b[0mnumpy\u001b[0m\u001b[0;34m\u001b[0m\u001b[0;34m\u001b[0m\u001b[0m\n\u001b[0;32m----> 2\u001b[0;31m \u001b[0marray\u001b[0m\u001b[0;34m(\u001b[0m\u001b[0;34m[\u001b[0m\u001b[0;36m1\u001b[0m\u001b[0;34m,\u001b[0m \u001b[0;36m2\u001b[0m\u001b[0;34m,\u001b[0m \u001b[0;36m3\u001b[0m\u001b[0;34m]\u001b[0m\u001b[0;34m)\u001b[0m\u001b[0;34m\u001b[0m\u001b[0;34m\u001b[0m\u001b[0m\n\u001b[0m",
            "\u001b[0;31mNameError\u001b[0m: name 'array' is not defined"
          ]
        }
      ]
    },
    {
      "cell_type": "code",
      "source": [
        "import numpy # Biblioteca de matrizes e vetores\n",
        "numpy.array([1, 2, 3])"
      ],
      "metadata": {
        "colab": {
          "base_uri": "https://localhost:8080/"
        },
        "id": "RxUsjrhfwL7Y",
        "outputId": "450b644c-65fc-49d3-fcf5-9d5008ca7ad8"
      },
      "execution_count": null,
      "outputs": [
        {
          "output_type": "execute_result",
          "data": {
            "text/plain": [
              "array([1, 2, 3])"
            ]
          },
          "metadata": {},
          "execution_count": 11
        }
      ]
    },
    {
      "cell_type": "code",
      "source": [
        "import numpy as np # Importou a biblioteca 'numpy' para 'np'\n",
        "np.array([1, 2, 3])"
      ],
      "metadata": {
        "colab": {
          "base_uri": "https://localhost:8080/"
        },
        "id": "kSa-h3o3w2UH",
        "outputId": "32d1d460-6154-4026-ef1d-1edbe53f7b54"
      },
      "execution_count": null,
      "outputs": [
        {
          "output_type": "execute_result",
          "data": {
            "text/plain": [
              "array([1, 2, 3])"
            ]
          },
          "metadata": {},
          "execution_count": 12
        }
      ]
    },
    {
      "cell_type": "code",
      "source": [
        "from numpy import array # da biblioteca 'numpy' importe somente 'array'\n",
        "array([1, 2, 3])"
      ],
      "metadata": {
        "colab": {
          "base_uri": "https://localhost:8080/"
        },
        "id": "c634Wa9txNM3",
        "outputId": "32106e69-893f-43e6-f741-14eb4f09f64c"
      },
      "execution_count": null,
      "outputs": [
        {
          "output_type": "execute_result",
          "data": {
            "text/plain": [
              "array([1, 2, 3])"
            ]
          },
          "metadata": {},
          "execution_count": 13
        }
      ]
    },
    {
      "cell_type": "code",
      "source": [
        "import numpy as np\n",
        "\n",
        "fam = ('Liz', 1.73, 'Emma', 1.68, 'mom', 1.71, 'dad', 1.89)\n",
        "print(fam)\n",
        "print(type(fam))\n",
        "\n",
        "fam_ext = fam + ('we', 1.79)\n",
        "print(fam_ext)\n",
        "print(type(fam_ext))\n",
        "\n",
        "print(str(len(fam_ext)) + \" elements is fam_ext\")\n",
        "print(type(str(len(fam_ext)) + \" elements is fam_ext\"))\n",
        "\n",
        "np_fam = np.array(fam_ext)"
      ],
      "metadata": {
        "colab": {
          "base_uri": "https://localhost:8080/"
        },
        "id": "cjtRQDb_xhm4",
        "outputId": "d375b60c-8a3d-43be-a967-2e878b04d713"
      },
      "execution_count": null,
      "outputs": [
        {
          "output_type": "stream",
          "name": "stdout",
          "text": [
            "('Liz', 1.73, 'Emma', 1.68, 'mom', 1.71, 'dad', 1.89)\n",
            "<class 'tuple'>\n",
            "('Liz', 1.73, 'Emma', 1.68, 'mom', 1.71, 'dad', 1.89, 'we', 1.79)\n",
            "<class 'tuple'>\n",
            "10 elements is fam_ext\n",
            "<class 'str'>\n"
          ]
        }
      ]
    },
    {
      "cell_type": "code",
      "source": [
        "r = 0.43\n",
        "import math\n",
        "C = 2 * math.pi * r\n",
        "print('Circunferência: ' + str(C))\n",
        "print(type(C))\n",
        "A = 2 * math.pi * r ** 2\n",
        "print('Área: ' + str(A))\n",
        "print(type(A))"
      ],
      "metadata": {
        "colab": {
          "base_uri": "https://localhost:8080/"
        },
        "id": "cj3MlZ74zWg_",
        "outputId": "725d3fc2-4bb5-4510-8ea6-ac913ed89637"
      },
      "execution_count": null,
      "outputs": [
        {
          "output_type": "stream",
          "name": "stdout",
          "text": [
            "Circunferência: 2.701769682087222\n",
            "<class 'float'>\n",
            "Área: 1.1617609632975054\n",
            "<class 'float'>\n"
          ]
        }
      ]
    },
    {
      "cell_type": "code",
      "source": [
        "alt = [2.1, 2.2, 2.3, 2.4, 2.5]\n",
        "lar = [3.1, 3.2, 3.3, 3.4, 3.5]\n",
        "\n",
        "print((alt / lar) ** 2) # Só é possível usar o 'numpy' para trabalhar com as listas."
      ],
      "metadata": {
        "colab": {
          "base_uri": "https://localhost:8080/",
          "height": 200
        },
        "id": "lgRoTBHn1ur9",
        "outputId": "211103f4-67da-4875-a6d8-0f290ce90fc6"
      },
      "execution_count": null,
      "outputs": [
        {
          "output_type": "error",
          "ename": "TypeError",
          "evalue": "ignored",
          "traceback": [
            "\u001b[0;31m---------------------------------------------------------------------------\u001b[0m",
            "\u001b[0;31mTypeError\u001b[0m                                 Traceback (most recent call last)",
            "\u001b[0;32m<ipython-input-30-a67d502930d7>\u001b[0m in \u001b[0;36m<cell line: 4>\u001b[0;34m()\u001b[0m\n\u001b[1;32m      2\u001b[0m \u001b[0mlar\u001b[0m \u001b[0;34m=\u001b[0m \u001b[0;34m[\u001b[0m\u001b[0;36m3.1\u001b[0m\u001b[0;34m,\u001b[0m \u001b[0;36m3.2\u001b[0m\u001b[0;34m,\u001b[0m \u001b[0;36m3.3\u001b[0m\u001b[0;34m,\u001b[0m \u001b[0;36m3.4\u001b[0m\u001b[0;34m,\u001b[0m \u001b[0;36m3.5\u001b[0m\u001b[0;34m]\u001b[0m\u001b[0;34m\u001b[0m\u001b[0;34m\u001b[0m\u001b[0m\n\u001b[1;32m      3\u001b[0m \u001b[0;34m\u001b[0m\u001b[0m\n\u001b[0;32m----> 4\u001b[0;31m \u001b[0mprint\u001b[0m\u001b[0;34m(\u001b[0m\u001b[0;34m(\u001b[0m\u001b[0malt\u001b[0m \u001b[0;34m/\u001b[0m \u001b[0mlar\u001b[0m\u001b[0;34m)\u001b[0m \u001b[0;34m**\u001b[0m \u001b[0;36m2\u001b[0m\u001b[0;34m)\u001b[0m\u001b[0;34m\u001b[0m\u001b[0;34m\u001b[0m\u001b[0m\n\u001b[0m",
            "\u001b[0;31mTypeError\u001b[0m: unsupported operand type(s) for /: 'list' and 'list'"
          ]
        }
      ]
    },
    {
      "cell_type": "code",
      "source": [
        "import numpy as np\n",
        "alt = [2.1, 2.2, 2.3, 2.4, 2.5]\n",
        "lar = [3.1, 3.2, 3.3, 3.4, 3.5]\n",
        "np_alt = np.array(alt)\n",
        "np_lar = np.array(lar)\n",
        "\n",
        "bmi = np_alt / (np_lar ** 2)\n",
        "print(bmi)\n",
        "print(type(bmi))"
      ],
      "metadata": {
        "colab": {
          "base_uri": "https://localhost:8080/"
        },
        "id": "iI6eRzLV2c9F",
        "outputId": "d482c0b1-fddb-4530-c2e8-0754d02ddb2c"
      },
      "execution_count": null,
      "outputs": [
        {
          "output_type": "stream",
          "name": "stdout",
          "text": [
            "[0.21852237 0.21484375 0.21120294 0.20761246 0.20408163]\n",
            "<class 'numpy.ndarray'>\n"
          ]
        }
      ]
    },
    {
      "cell_type": "code",
      "source": [
        "list1 = [1, 2, 3]\n",
        "list2 = [1, 2, 3]\n",
        "\n",
        "somlist = list1 + list2 # Sem usar o 'array' a soma irá somente unir os valores, como uma concatenação\n",
        "print(somlist)"
      ],
      "metadata": {
        "colab": {
          "base_uri": "https://localhost:8080/"
        },
        "id": "SuYKIfZ83-fu",
        "outputId": "be876ca1-3b14-4d06-b679-270a8e24f6b6"
      },
      "execution_count": null,
      "outputs": [
        {
          "output_type": "stream",
          "name": "stdout",
          "text": [
            "[1, 2, 3, 1, 2, 3]\n"
          ]
        }
      ]
    },
    {
      "cell_type": "code",
      "source": [
        "import numpy as ls\n",
        "list1 = [1, 2, 3]\n",
        "list2 = [1, 2, 3]\n",
        "\n",
        "list_ls1 = ls.array(list1)\n",
        "list_ls2 = ls.array(list2)\n",
        "\n",
        "som_list = list_ls1 + list_ls2 # Usando o 'array' (numpy) a soma irá somar os elementos separadamente\n",
        "print(som_list)"
      ],
      "metadata": {
        "colab": {
          "base_uri": "https://localhost:8080/"
        },
        "id": "hZ9pV2fH4SF8",
        "outputId": "314ef292-171b-4abb-99b6-ea7b39479891"
      },
      "execution_count": null,
      "outputs": [
        {
          "output_type": "stream",
          "name": "stdout",
          "text": [
            "[2 4 6]\n"
          ]
        }
      ]
    },
    {
      "cell_type": "code",
      "source": [
        "import numpy as np\n",
        "bm = [20, 22, 24, 26, 28, 30]\n",
        "bm_new = np.array(bm)\n",
        "\n",
        "print(bm_new[1]) # Mostra exatamente qual o elemento está no array/lista\n",
        "print(bm_new > 23)\n",
        "print(bm_new < 20)"
      ],
      "metadata": {
        "colab": {
          "base_uri": "https://localhost:8080/"
        },
        "id": "c_eOTBmB5bUF",
        "outputId": "5b885a18-e048-497d-f7b7-052bb320e7b1"
      },
      "execution_count": null,
      "outputs": [
        {
          "output_type": "stream",
          "name": "stdout",
          "text": [
            "22\n",
            "[False False  True  True  True  True]\n",
            "[False False False False False False]\n"
          ]
        }
      ]
    }
  ]
}