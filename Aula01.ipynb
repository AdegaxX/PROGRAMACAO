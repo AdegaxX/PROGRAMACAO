{
  "nbformat": 4,
  "nbformat_minor": 0,
  "metadata": {
    "colab": {
      "provenance": [],
      "authorship_tag": "ABX9TyMpyeAgOGfF+q9DaI0GnMmP",
      "include_colab_link": true
    },
    "kernelspec": {
      "name": "python3",
      "display_name": "Python 3"
    },
    "language_info": {
      "name": "python"
    }
  },
  "cells": [
    {
      "cell_type": "markdown",
      "metadata": {
        "id": "view-in-github",
        "colab_type": "text"
      },
      "source": [
        "<a href=\"https://colab.research.google.com/github/AdegaxX/PROGRAMACAO/blob/main/Aula01.ipynb\" target=\"_parent\"><img src=\"https://colab.research.google.com/assets/colab-badge.svg\" alt=\"Open In Colab\"/></a>"
      ]
    },
    {
      "cell_type": "code",
      "execution_count": null,
      "metadata": {
        "colab": {
          "base_uri": "https://localhost:8080/"
        },
        "id": "VTk5YMVvECq7",
        "outputId": "6c9db963-fe6a-44aa-c36e-47729b2d186f"
      },
      "outputs": [
        {
          "output_type": "stream",
          "name": "stdout",
          "text": [
            "21.44127836209856\n"
          ]
        }
      ],
      "source": [
        "height = 1.79\n",
        "weight = 68.7\n",
        "weight / height ** 2\n",
        "bmi = weight / height ** 2\n",
        "print(bmi)\n"
      ]
    },
    {
      "cell_type": "code",
      "source": [
        "type(bmi) # Tipo Flutuante"
      ],
      "metadata": {
        "colab": {
          "base_uri": "https://localhost:8080/"
        },
        "id": "OVndOLyONPnj",
        "outputId": "5a129f6e-2e5e-4f04-ce90-225f5da6f13a"
      },
      "execution_count": null,
      "outputs": [
        {
          "output_type": "execute_result",
          "data": {
            "text/plain": [
              "float"
            ]
          },
          "metadata": {},
          "execution_count": 17
        }
      ]
    },
    {
      "cell_type": "code",
      "source": [
        "day_of_week = 5\n",
        "type(day_of_week) # Tipo Inteiro"
      ],
      "metadata": {
        "colab": {
          "base_uri": "https://localhost:8080/"
        },
        "id": "DyhOm-EgNWX1",
        "outputId": "af1fe920-0bde-4c06-d4a7-8171be7dd9c4"
      },
      "execution_count": null,
      "outputs": [
        {
          "output_type": "execute_result",
          "data": {
            "text/plain": [
              "int"
            ]
          },
          "metadata": {},
          "execution_count": 18
        }
      ]
    },
    {
      "cell_type": "code",
      "source": [
        "height = 1.79\n",
        "weight = 68.7"
      ],
      "metadata": {
        "id": "4LDWyupULDvr"
      },
      "execution_count": null,
      "outputs": []
    },
    {
      "cell_type": "code",
      "source": [
        "height"
      ],
      "metadata": {
        "colab": {
          "base_uri": "https://localhost:8080/"
        },
        "id": "JqOYe9QNLOiH",
        "outputId": "4762c41a-b7e9-4976-d1e3-5c767d8bc856"
      },
      "execution_count": null,
      "outputs": [
        {
          "output_type": "execute_result",
          "data": {
            "text/plain": [
              "1.79"
            ]
          },
          "metadata": {},
          "execution_count": 12
        }
      ]
    },
    {
      "cell_type": "code",
      "source": [
        "weight"
      ],
      "metadata": {
        "colab": {
          "base_uri": "https://localhost:8080/"
        },
        "id": "okjYnbKGLarO",
        "outputId": "d436d316-70ee-4fd5-ec6a-030d22a30aad"
      },
      "execution_count": null,
      "outputs": [
        {
          "output_type": "execute_result",
          "data": {
            "text/plain": [
              "68.7"
            ]
          },
          "metadata": {},
          "execution_count": 13
        }
      ]
    },
    {
      "cell_type": "code",
      "source": [
        "x = \"body mass index\"\n",
        "y = 'this work too'\n",
        "type(x) # Tipo String = Texto"
      ],
      "metadata": {
        "colab": {
          "base_uri": "https://localhost:8080/"
        },
        "id": "nyo7pSG7Nv2a",
        "outputId": "1635cdf2-a665-41be-aaf1-498763de427f"
      },
      "execution_count": null,
      "outputs": [
        {
          "output_type": "execute_result",
          "data": {
            "text/plain": [
              "str"
            ]
          },
          "metadata": {},
          "execution_count": 19
        }
      ]
    },
    {
      "cell_type": "code",
      "source": [
        "type(y)"
      ],
      "metadata": {
        "colab": {
          "base_uri": "https://localhost:8080/"
        },
        "id": "usLqAlSBN-bB",
        "outputId": "52349f13-86d6-45ce-ba64-dfdf426c975f"
      },
      "execution_count": null,
      "outputs": [
        {
          "output_type": "execute_result",
          "data": {
            "text/plain": [
              "str"
            ]
          },
          "metadata": {},
          "execution_count": 20
        }
      ]
    },
    {
      "cell_type": "code",
      "source": [
        "z = True\n",
        "type(z) # Tipo Booleana"
      ],
      "metadata": {
        "colab": {
          "base_uri": "https://localhost:8080/"
        },
        "id": "H0ZFE0UTOZJP",
        "outputId": "1bf28d2c-8b0c-465b-e22f-2e9de9607889"
      },
      "execution_count": null,
      "outputs": [
        {
          "output_type": "execute_result",
          "data": {
            "text/plain": [
              "bool"
            ]
          },
          "metadata": {},
          "execution_count": 21
        }
      ]
    },
    {
      "cell_type": "code",
      "source": [
        "u = False\n",
        "type(u)"
      ],
      "metadata": {
        "colab": {
          "base_uri": "https://localhost:8080/"
        },
        "id": "tN6-KPyvO5rn",
        "outputId": "8c0ee50e-3462-42c9-bafa-176817381327"
      },
      "execution_count": null,
      "outputs": [
        {
          "output_type": "execute_result",
          "data": {
            "text/plain": [
              "bool"
            ]
          },
          "metadata": {},
          "execution_count": 23
        }
      ]
    },
    {
      "cell_type": "code",
      "source": [
        "A = 'Leandro '\n",
        "B = 'Nascimento '\n",
        "C = 'Adegas'\n",
        "A + B + C # Essa 'junção' se chama Indentação = concatenação"
      ],
      "metadata": {
        "colab": {
          "base_uri": "https://localhost:8080/",
          "height": 35
        },
        "id": "gAoe0j2oPTtJ",
        "outputId": "25e4c06d-0b92-48dc-b32f-080e8a78273f"
      },
      "execution_count": null,
      "outputs": [
        {
          "output_type": "execute_result",
          "data": {
            "text/plain": [
              "'Leandro Nascimento Adegas'"
            ],
            "application/vnd.google.colaboratory.intrinsic+json": {
              "type": "string"
            }
          },
          "metadata": {},
          "execution_count": 28
        }
      ]
    },
    {
      "cell_type": "code",
      "source": [
        "(9 + 6) / 2"
      ],
      "metadata": {
        "colab": {
          "base_uri": "https://localhost:8080/"
        },
        "id": "RAkW_LC6Ph5m",
        "outputId": "c2e57ef7-efe6-499a-bb40-ed326b348fe0"
      },
      "execution_count": null,
      "outputs": [
        {
          "output_type": "execute_result",
          "data": {
            "text/plain": [
              "7.5"
            ]
          },
          "metadata": {},
          "execution_count": 26
        }
      ]
    },
    {
      "cell_type": "code",
      "source": [
        "# A hashtag representa um comentário em Python\n",
        "print(5/8)"
      ],
      "metadata": {
        "colab": {
          "base_uri": "https://localhost:8080/"
        },
        "id": "ai9ru9D_RNuu",
        "outputId": "32d2ef8c-93ae-4195-bd1d-83881e76d4c2"
      },
      "execution_count": null,
      "outputs": [
        {
          "output_type": "stream",
          "name": "stdout",
          "text": [
            "0.625\n"
          ]
        }
      ]
    },
    {
      "cell_type": "code",
      "source": [
        "soma = 5 + 3\n",
        "subtracao = 5 - 3\n",
        "print(soma)\n",
        "print(subtracao)"
      ],
      "metadata": {
        "colab": {
          "base_uri": "https://localhost:8080/"
        },
        "id": "xvO1BjQISrAX",
        "outputId": "f7f03c2c-59c2-4a6b-fbd3-adb592fd1f6f"
      },
      "execution_count": null,
      "outputs": [
        {
          "output_type": "stream",
          "name": "stdout",
          "text": [
            "8\n",
            "2\n"
          ]
        }
      ]
    },
    {
      "cell_type": "code",
      "source": [
        "potencia = 5 ** 3 # '**' Representa Potência \"elevado à\"\n",
        "mult = 5 * 3 # '*' Representa Multimplicação\n",
        "resto = 5 % 3 # '%' Representa o Resto da Divisão\n",
        "print(potencia)\n",
        "print(mult)\n",
        "print(resto)"
      ],
      "metadata": {
        "colab": {
          "base_uri": "https://localhost:8080/"
        },
        "id": "QMV9i-eETDlC",
        "outputId": "f02b6381-9062-44f8-c8ba-f915b3ba10fa"
      },
      "execution_count": null,
      "outputs": [
        {
          "output_type": "stream",
          "name": "stdout",
          "text": [
            "125\n",
            "15\n",
            "2\n"
          ]
        }
      ]
    },
    {
      "cell_type": "code",
      "source": [
        "mult = (100 * ( 11 / 100)) ** 7\n",
        "print(mult)"
      ],
      "metadata": {
        "colab": {
          "base_uri": "https://localhost:8080/"
        },
        "id": "j5IUyNsfq23c",
        "outputId": "eb058635-304e-4711-91eb-182d9fb0131e"
      },
      "execution_count": null,
      "outputs": [
        {
          "output_type": "stream",
          "name": "stdout",
          "text": [
            "19487171.0\n"
          ]
        }
      ]
    },
    {
      "cell_type": "code",
      "source": [
        "savings = 100\n",
        "growth_multiplier = 1.1\n",
        "year1 = savings * growth_multiplier\n",
        "dasc = \"compound interest \"\n",
        "# print(year1)\n",
        "doble_dasc = dasc + dasc\n",
        "print(doble_dasc)\n",
        "print(type(year1))\n"
      ],
      "metadata": {
        "colab": {
          "base_uri": "https://localhost:8080/"
        },
        "id": "GjL50wfStC-J",
        "outputId": "d7de6bf3-51fa-4feb-afc3-eebddf9bb16c"
      },
      "execution_count": null,
      "outputs": [
        {
          "output_type": "stream",
          "name": "stdout",
          "text": [
            "compound interest compound interest \n",
            "<class 'float'>\n"
          ]
        }
      ]
    },
    {
      "cell_type": "code",
      "source": [
        "pi_string = \"3.1415926\"\n",
        "pi_float = float(pi_string)\n",
        "\n",
        "print(pi_string)\n",
        "print(type(pi_string))\n",
        "print(pi_float)\n",
        "print(type(pi_float))"
      ],
      "metadata": {
        "colab": {
          "base_uri": "https://localhost:8080/"
        },
        "id": "MylnMG7fxRvd",
        "outputId": "0358d03d-a4be-4fe8-961d-a9481c0de597"
      },
      "execution_count": null,
      "outputs": [
        {
          "output_type": "stream",
          "name": "stdout",
          "text": [
            "3.1415926\n",
            "<class 'str'>\n",
            "3.1415926\n",
            "<class 'float'>\n"
          ]
        }
      ]
    },
    {
      "cell_type": "code",
      "source": [
        "savings = 100\n",
        "result = 100 * 1.10 ** 7\n",
        "\n",
        "print(\"I started wth $\" + str(savings) + \" and now have $\" + str(result) + \". Awesome!\") # O 'str' transforma o 'int' em uma 'string'\n",
        "# print(\"I started wth $\" + savings + \" and now have $\" + result + \". Awesome!\") esse dá erro\n",
        "# Não pode concatenar um numero interiro com uma string\n",
        "print(\"I started wth $\" , savings , \" and now have $\" , result , \". Awesome!\") # A vírgula \"printa\" as variáveis usadas\n"
      ],
      "metadata": {
        "colab": {
          "base_uri": "https://localhost:8080/"
        },
        "id": "BiyfAEXoy4EG",
        "outputId": "f15308e4-d314-4cad-e6f5-f56373cb80dd"
      },
      "execution_count": null,
      "outputs": [
        {
          "output_type": "stream",
          "name": "stdout",
          "text": [
            "I started wth $100 and now have $194.87171000000012. Awesome!\n",
            "I started wth $ 100  and now have $ 194.87171000000012 . Awesome!\n"
          ]
        }
      ]
    },
    {
      "cell_type": "code",
      "source": [
        "var = 'Olá mundo'\n",
        "print(var)"
      ],
      "metadata": {
        "id": "W1TQo-mZ5hZo",
        "colab": {
          "base_uri": "https://localhost:8080/"
        },
        "outputId": "adec8336-81f8-44e9-fa53-0bf212326d03"
      },
      "execution_count": 1,
      "outputs": [
        {
          "output_type": "stream",
          "name": "stdout",
          "text": [
            "Olá mundo\n"
          ]
        }
      ]
    },
    {
      "cell_type": "code",
      "source": [
        "frutas = ['banana', 'manga', 'pera', 'uva']\n",
        "num = ['Leandro', 1.68, 'Messias', 1.75]\n",
        "print(frutas)\n",
        "print(type(frutas))\n",
        "print(num)\n",
        "print(type(num))"
      ],
      "metadata": {
        "colab": {
          "base_uri": "https://localhost:8080/"
        },
        "id": "AZGxauMU9kqw",
        "outputId": "ae699181-baa6-4051-b4f1-b64e4abdc482"
      },
      "execution_count": 8,
      "outputs": [
        {
          "output_type": "stream",
          "name": "stdout",
          "text": [
            "['banana', 'manga', 'pera', 'uva']\n",
            "<class 'list'>\n",
            "['Leandro', 1.68, 'Messias', 1.75]\n",
            "<class 'list'>\n"
          ]
        }
      ]
    },
    {
      "cell_type": "code",
      "source": [
        "fam2 = [ ['Matheus', 1.70],\n",
        "         ['Messias', 1.75],\n",
        "         ['Mãe', 1.66],\n",
        "         ['Pai', 1.69] ]\n",
        "print(fam2)\n",
        "print(type(fam2))"
      ],
      "metadata": {
        "colab": {
          "base_uri": "https://localhost:8080/"
        },
        "id": "ZrW0uyMR_Ezt",
        "outputId": "597f053e-172e-4b04-fb8c-f5513efdcdd5"
      },
      "execution_count": 9,
      "outputs": [
        {
          "output_type": "stream",
          "name": "stdout",
          "text": [
            "[['Matheus', 1.7], ['Messias', 1.75], ['Mãe', 1.66], ['Pai', 1.69]]\n",
            "<class 'list'>\n"
          ]
        }
      ]
    },
    {
      "cell_type": "code",
      "source": [
        "hall = 14.25 # Para alterar um valor da lista, basta atualizar a variável específica sem precisar mexer na lista em si\n",
        "kit = 18.0\n",
        "liv = 20.0\n",
        "bed = 10.75\n",
        "bath = 9.50\n",
        "area = [hall, kit, liv, bed, bath]\n",
        "print(area)\n",
        "print(type(area))"
      ],
      "metadata": {
        "colab": {
          "base_uri": "https://localhost:8080/"
        },
        "id": "5AEebviSBeKm",
        "outputId": "8443d139-6f1f-49f9-802b-a9acb26f2f85"
      },
      "execution_count": 15,
      "outputs": [
        {
          "output_type": "stream",
          "name": "stdout",
          "text": [
            "[14.25, 18.0, 20.0, 10.75, 9.5]\n",
            "<class 'list'>\n"
          ]
        }
      ]
    },
    {
      "cell_type": "code",
      "source": [
        "hall = 14.25 # Para alterar um valor da lista, basta atualizar a variável específica sem precisar mexer na lista em si\n",
        "kit = 18.0\n",
        "liv = 20.0\n",
        "bed = 10.75\n",
        "bath = 9.50\n",
        "area = ['Casa', hall,'cozinha', kit, 'sala', liv, 'quarto', bed, 'banheiro', bath] # Uma string e o seu valor/descrição\n",
        "print(area)\n",
        "print(type(area))"
      ],
      "metadata": {
        "colab": {
          "base_uri": "https://localhost:8080/"
        },
        "id": "8DqNdMg2Dknk",
        "outputId": "9f77ef79-32d6-41b3-c676-456404fc257a"
      },
      "execution_count": 18,
      "outputs": [
        {
          "output_type": "stream",
          "name": "stdout",
          "text": [
            "['Casa', 14.25, 'cozinha', 18.0, 'sala', 20.0, 'quarto', 10.75, 'banheiro', 9.5]\n",
            "<class 'list'>\n"
          ]
        }
      ]
    },
    {
      "cell_type": "code",
      "source": [],
      "metadata": {
        "id": "XeSHfUO9IUzi"
      },
      "execution_count": null,
      "outputs": []
    },
    {
      "cell_type": "code",
      "source": [
        "A = [1,2,3] # Uma lista composta por 3 números inteiros\n",
        "B = [[2,4,6], [1,3,5]] # Uma lista composta por duas sub-listas, cada uma com 3 números inteiros\n",
        "C = [1+2,'a'*5,3] # Uma lista composta por uma soma de dois números '1+2', a multiplicação de uma string 'a' 5 vezes e um número '3'\n",
        "print(A , B , C)"
      ],
      "metadata": {
        "colab": {
          "base_uri": "https://localhost:8080/"
        },
        "id": "GAPgayPEEwaK",
        "outputId": "40ee87c7-677f-4010-92b8-e5aa11a34d91"
      },
      "execution_count": 20,
      "outputs": [
        {
          "output_type": "stream",
          "name": "stdout",
          "text": [
            "[1, 2, 3] [[2, 4, 6], [1, 3, 5]] [3, 'aaaaa', 3]\n"
          ]
        }
      ]
    },
    {
      "cell_type": "code",
      "source": [
        "hall = 14.25\n",
        "kit = 18.0\n",
        "liv = 20.0\n",
        "bed = 10.75\n",
        "bath = 9.50\n",
        "house = [\n",
        "          ['Casa', hall],\n",
        "          ['cozinha', kit],\n",
        "          ['sala', liv],\n",
        "          ['quarto', bed],\n",
        "          ['banheiro', bath]\n",
        "        ]\n",
        "print(house)\n",
        "print(type(house))"
      ],
      "metadata": {
        "colab": {
          "base_uri": "https://localhost:8080/"
        },
        "id": "AI8b-lfEGaX-",
        "outputId": "b6bdbe0e-660c-4d2a-8b05-184e216f066c"
      },
      "execution_count": 21,
      "outputs": [
        {
          "output_type": "stream",
          "name": "stdout",
          "text": [
            "[['Casa', 14.25], ['cozinha', 18.0], ['sala', 20.0], ['quarto', 10.75], ['banheiro', 9.5]]\n",
            "<class 'list'>\n"
          ]
        }
      ]
    },
    {
      "cell_type": "code",
      "source": [
        "hall = 14.25 # Para alterar um valor da lista, basta atualizar a variável específica sem precisar mexer na lista em si\n",
        "kit = 18.0\n",
        "liv = 20.0\n",
        "bed = 10.75\n",
        "bath = 9.50\n",
        "area = ['Casa', hall,'cozinha', kit, 'sala', liv, 'quarto', bed, 'banheiro', bath]\n",
        "area[2]\n",
        "print(area[-1])\n",
        "print(area[0])\n",
        "print(area[1])\n",
        "print(area[3])\n",
        "print(area[4])\n",
        "print(area[5])\n",
        "print(area[6])\n",
        "print(area[7])\n",
        "print(area[8])\n",
        "print(area[9])"
      ],
      "metadata": {
        "colab": {
          "base_uri": "https://localhost:8080/"
        },
        "id": "-NebRGJTIXis",
        "outputId": "d3ad70ef-723a-4c7c-936f-4427853def60"
      },
      "execution_count": 28,
      "outputs": [
        {
          "output_type": "stream",
          "name": "stdout",
          "text": [
            "9.5\n",
            "Casa\n",
            "14.25\n",
            "18.0\n",
            "sala\n",
            "20.0\n",
            "quarto\n",
            "10.75\n",
            "banheiro\n",
            "9.5\n"
          ]
        }
      ]
    },
    {
      "cell_type": "code",
      "source": [
        "hall = 14.25 # Para alterar um valor da lista, basta atualizar a variável específica sem precisar mexer na lista em si\n",
        "kit = 18.0\n",
        "liv = 20.0\n",
        "bed = 10.75\n",
        "bath = 9.50\n",
        "area = ['Casa', hall,'cozinha', kit, 'sala', liv, 'quarto', bed, 'banheiro', bath]\n",
        "print(area[2:7]) # Pega partes de uma lista utilizando \"num : num\"\n",
        "print(area[0:4])\n",
        "print(area[4:9])\n",
        "print(area[ :4]) # Pega do inicio da lista até o elemento 4\n",
        "print(area[2: ]) # Pega do elemento 2 até o fim da lista"
      ],
      "metadata": {
        "colab": {
          "base_uri": "https://localhost:8080/"
        },
        "id": "MXDbgw9cKEv_",
        "outputId": "713eb371-36cf-4af9-ded5-9f7a56435c22"
      },
      "execution_count": 33,
      "outputs": [
        {
          "output_type": "stream",
          "name": "stdout",
          "text": [
            "['cozinha', 18.0, 'sala', 20.0, 'quarto']\n",
            "['Casa', 14.25, 'cozinha', 18.0]\n",
            "['sala', 20.0, 'quarto', 10.75, 'banheiro']\n",
            "['Casa', 14.25, 'cozinha', 18.0]\n",
            "['cozinha', 18.0, 'sala', 20.0, 'quarto', 10.75, 'banheiro', 9.5]\n"
          ]
        }
      ]
    },
    {
      "cell_type": "code",
      "source": [
        "hall = 14.25\n",
        "kit = 18.0\n",
        "liv = 20.0\n",
        "bed = 10.75\n",
        "bath = 9.50\n",
        "area = ['Casa', hall,'cozinha', kit, 'sala', liv, 'quarto', bed, 'banheiro', bath]\n",
        "print(area[1])\n",
        "print(area[-1])\n",
        "print(area[4])"
      ],
      "metadata": {
        "colab": {
          "base_uri": "https://localhost:8080/"
        },
        "id": "vtfCA3QeLgEh",
        "outputId": "2ca993e9-f285-403d-9c71-d57c7560ce89"
      },
      "execution_count": 36,
      "outputs": [
        {
          "output_type": "stream",
          "name": "stdout",
          "text": [
            "14.25\n",
            "9.5\n",
            "sala\n"
          ]
        }
      ]
    }
  ]
}