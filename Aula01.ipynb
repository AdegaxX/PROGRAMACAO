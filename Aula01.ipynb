{
  "nbformat": 4,
  "nbformat_minor": 0,
  "metadata": {
    "colab": {
      "provenance": [],
      "authorship_tag": "ABX9TyOkX3s46ls6Ce56DV5l4INt",
      "include_colab_link": true
    },
    "kernelspec": {
      "name": "python3",
      "display_name": "Python 3"
    },
    "language_info": {
      "name": "python"
    }
  },
  "cells": [
    {
      "cell_type": "markdown",
      "metadata": {
        "id": "view-in-github",
        "colab_type": "text"
      },
      "source": [
        "<a href=\"https://colab.research.google.com/github/AdegaxX/PROGRAMACAO/blob/main/Aula01.ipynb\" target=\"_parent\"><img src=\"https://colab.research.google.com/assets/colab-badge.svg\" alt=\"Open In Colab\"/></a>"
      ]
    },
    {
      "cell_type": "code",
      "execution_count": null,
      "metadata": {
        "colab": {
          "base_uri": "https://localhost:8080/"
        },
        "id": "VTk5YMVvECq7",
        "outputId": "6c9db963-fe6a-44aa-c36e-47729b2d186f"
      },
      "outputs": [
        {
          "output_type": "stream",
          "name": "stdout",
          "text": [
            "21.44127836209856\n"
          ]
        }
      ],
      "source": [
        "height = 1.79\n",
        "weight = 68.7\n",
        "weight / height ** 2\n",
        "bmi = weight / height ** 2\n",
        "print(bmi)\n"
      ]
    },
    {
      "cell_type": "code",
      "source": [
        "type(bmi) # Tipo Flutuante"
      ],
      "metadata": {
        "colab": {
          "base_uri": "https://localhost:8080/"
        },
        "id": "OVndOLyONPnj",
        "outputId": "5a129f6e-2e5e-4f04-ce90-225f5da6f13a"
      },
      "execution_count": null,
      "outputs": [
        {
          "output_type": "execute_result",
          "data": {
            "text/plain": [
              "float"
            ]
          },
          "metadata": {},
          "execution_count": 17
        }
      ]
    },
    {
      "cell_type": "code",
      "source": [
        "day_of_week = 5\n",
        "type(day_of_week) # Tipo Inteiro"
      ],
      "metadata": {
        "colab": {
          "base_uri": "https://localhost:8080/"
        },
        "id": "DyhOm-EgNWX1",
        "outputId": "af1fe920-0bde-4c06-d4a7-8171be7dd9c4"
      },
      "execution_count": null,
      "outputs": [
        {
          "output_type": "execute_result",
          "data": {
            "text/plain": [
              "int"
            ]
          },
          "metadata": {},
          "execution_count": 18
        }
      ]
    },
    {
      "cell_type": "code",
      "source": [
        "height = 1.79\n",
        "weight = 68.7"
      ],
      "metadata": {
        "id": "4LDWyupULDvr"
      },
      "execution_count": null,
      "outputs": []
    },
    {
      "cell_type": "code",
      "source": [
        "height"
      ],
      "metadata": {
        "colab": {
          "base_uri": "https://localhost:8080/"
        },
        "id": "JqOYe9QNLOiH",
        "outputId": "4762c41a-b7e9-4976-d1e3-5c767d8bc856"
      },
      "execution_count": null,
      "outputs": [
        {
          "output_type": "execute_result",
          "data": {
            "text/plain": [
              "1.79"
            ]
          },
          "metadata": {},
          "execution_count": 12
        }
      ]
    },
    {
      "cell_type": "code",
      "source": [
        "weight"
      ],
      "metadata": {
        "colab": {
          "base_uri": "https://localhost:8080/"
        },
        "id": "okjYnbKGLarO",
        "outputId": "d436d316-70ee-4fd5-ec6a-030d22a30aad"
      },
      "execution_count": null,
      "outputs": [
        {
          "output_type": "execute_result",
          "data": {
            "text/plain": [
              "68.7"
            ]
          },
          "metadata": {},
          "execution_count": 13
        }
      ]
    },
    {
      "cell_type": "code",
      "source": [
        "x = \"body mass index\"\n",
        "y = 'this work too'\n",
        "type(x) # Tipo String = Texto"
      ],
      "metadata": {
        "colab": {
          "base_uri": "https://localhost:8080/"
        },
        "id": "nyo7pSG7Nv2a",
        "outputId": "1635cdf2-a665-41be-aaf1-498763de427f"
      },
      "execution_count": null,
      "outputs": [
        {
          "output_type": "execute_result",
          "data": {
            "text/plain": [
              "str"
            ]
          },
          "metadata": {},
          "execution_count": 19
        }
      ]
    },
    {
      "cell_type": "code",
      "source": [
        "type(y)"
      ],
      "metadata": {
        "colab": {
          "base_uri": "https://localhost:8080/"
        },
        "id": "usLqAlSBN-bB",
        "outputId": "52349f13-86d6-45ce-ba64-dfdf426c975f"
      },
      "execution_count": null,
      "outputs": [
        {
          "output_type": "execute_result",
          "data": {
            "text/plain": [
              "str"
            ]
          },
          "metadata": {},
          "execution_count": 20
        }
      ]
    },
    {
      "cell_type": "code",
      "source": [
        "z = True\n",
        "type(z) # Tipo Booleana"
      ],
      "metadata": {
        "colab": {
          "base_uri": "https://localhost:8080/"
        },
        "id": "H0ZFE0UTOZJP",
        "outputId": "1bf28d2c-8b0c-465b-e22f-2e9de9607889"
      },
      "execution_count": null,
      "outputs": [
        {
          "output_type": "execute_result",
          "data": {
            "text/plain": [
              "bool"
            ]
          },
          "metadata": {},
          "execution_count": 21
        }
      ]
    },
    {
      "cell_type": "code",
      "source": [
        "u = False\n",
        "type(u)"
      ],
      "metadata": {
        "colab": {
          "base_uri": "https://localhost:8080/"
        },
        "id": "tN6-KPyvO5rn",
        "outputId": "8c0ee50e-3462-42c9-bafa-176817381327"
      },
      "execution_count": null,
      "outputs": [
        {
          "output_type": "execute_result",
          "data": {
            "text/plain": [
              "bool"
            ]
          },
          "metadata": {},
          "execution_count": 23
        }
      ]
    },
    {
      "cell_type": "code",
      "source": [
        "A = 'Leandro '\n",
        "B = 'Nascimento '\n",
        "C = 'Adegas'\n",
        "A + B + C # Essa 'junção' se chama Indentação = concatenação"
      ],
      "metadata": {
        "colab": {
          "base_uri": "https://localhost:8080/",
          "height": 35
        },
        "id": "gAoe0j2oPTtJ",
        "outputId": "25e4c06d-0b92-48dc-b32f-080e8a78273f"
      },
      "execution_count": null,
      "outputs": [
        {
          "output_type": "execute_result",
          "data": {
            "text/plain": [
              "'Leandro Nascimento Adegas'"
            ],
            "application/vnd.google.colaboratory.intrinsic+json": {
              "type": "string"
            }
          },
          "metadata": {},
          "execution_count": 28
        }
      ]
    },
    {
      "cell_type": "code",
      "source": [
        "(9 + 6) / 2"
      ],
      "metadata": {
        "colab": {
          "base_uri": "https://localhost:8080/"
        },
        "id": "RAkW_LC6Ph5m",
        "outputId": "c2e57ef7-efe6-499a-bb40-ed326b348fe0"
      },
      "execution_count": null,
      "outputs": [
        {
          "output_type": "execute_result",
          "data": {
            "text/plain": [
              "7.5"
            ]
          },
          "metadata": {},
          "execution_count": 26
        }
      ]
    },
    {
      "cell_type": "code",
      "source": [
        "# A hashtag representa um comentário em Python\n",
        "print(5/8)"
      ],
      "metadata": {
        "colab": {
          "base_uri": "https://localhost:8080/"
        },
        "id": "ai9ru9D_RNuu",
        "outputId": "32d2ef8c-93ae-4195-bd1d-83881e76d4c2"
      },
      "execution_count": null,
      "outputs": [
        {
          "output_type": "stream",
          "name": "stdout",
          "text": [
            "0.625\n"
          ]
        }
      ]
    },
    {
      "cell_type": "code",
      "source": [
        "soma = 5 + 3\n",
        "subtracao = 5 - 3\n",
        "print(soma)\n",
        "print(subtracao)"
      ],
      "metadata": {
        "colab": {
          "base_uri": "https://localhost:8080/"
        },
        "id": "xvO1BjQISrAX",
        "outputId": "f7f03c2c-59c2-4a6b-fbd3-adb592fd1f6f"
      },
      "execution_count": null,
      "outputs": [
        {
          "output_type": "stream",
          "name": "stdout",
          "text": [
            "8\n",
            "2\n"
          ]
        }
      ]
    },
    {
      "cell_type": "code",
      "source": [
        "potencia = 5 ** 3 # '**' Representa Potência \"elevado à\"\n",
        "mult = 5 * 3 # '*' Representa Multimplicação\n",
        "resto = 5 % 3 # '%' Representa o Resto da Divisão\n",
        "print(potencia)\n",
        "print(mult)\n",
        "print(resto)"
      ],
      "metadata": {
        "colab": {
          "base_uri": "https://localhost:8080/"
        },
        "id": "QMV9i-eETDlC",
        "outputId": "f02b6381-9062-44f8-c8ba-f915b3ba10fa"
      },
      "execution_count": null,
      "outputs": [
        {
          "output_type": "stream",
          "name": "stdout",
          "text": [
            "125\n",
            "15\n",
            "2\n"
          ]
        }
      ]
    },
    {
      "cell_type": "code",
      "source": [
        "mult = (100 * ( 11 / 100)) ** 7\n",
        "print(mult)"
      ],
      "metadata": {
        "colab": {
          "base_uri": "https://localhost:8080/"
        },
        "id": "j5IUyNsfq23c",
        "outputId": "eb058635-304e-4711-91eb-182d9fb0131e"
      },
      "execution_count": 2,
      "outputs": [
        {
          "output_type": "stream",
          "name": "stdout",
          "text": [
            "19487171.0\n"
          ]
        }
      ]
    },
    {
      "cell_type": "code",
      "source": [
        "savings = 100\n",
        "growth_multiplier = 1.1\n",
        "year1 = savings * growth_multiplier\n",
        "dasc = \"compound interest \"\n",
        "# print(year1)\n",
        "doble_dasc = dasc + dasc\n",
        "print(doble_dasc)\n",
        "print(type(year1))\n"
      ],
      "metadata": {
        "colab": {
          "base_uri": "https://localhost:8080/"
        },
        "id": "GjL50wfStC-J",
        "outputId": "d7de6bf3-51fa-4feb-afc3-eebddf9bb16c"
      },
      "execution_count": 7,
      "outputs": [
        {
          "output_type": "stream",
          "name": "stdout",
          "text": [
            "compound interest compound interest \n",
            "<class 'float'>\n"
          ]
        }
      ]
    },
    {
      "cell_type": "code",
      "source": [
        "pi_string = \"3.1415926\"\n",
        "pi_float = float(pi_string)\n",
        "\n",
        "print(pi_string)\n",
        "print(type(pi_string))\n",
        "print(pi_float)\n",
        "print(type(pi_float))"
      ],
      "metadata": {
        "colab": {
          "base_uri": "https://localhost:8080/"
        },
        "id": "MylnMG7fxRvd",
        "outputId": "0358d03d-a4be-4fe8-961d-a9481c0de597"
      },
      "execution_count": 9,
      "outputs": [
        {
          "output_type": "stream",
          "name": "stdout",
          "text": [
            "3.1415926\n",
            "<class 'str'>\n",
            "3.1415926\n",
            "<class 'float'>\n"
          ]
        }
      ]
    },
    {
      "cell_type": "code",
      "source": [
        "savings = 100\n",
        "result = 100 * 1.10 ** 7\n",
        "\n",
        "print(\"I started wth $\" + str(savings) + \" and now have $\" + str(result) + \". Awesome!\") # O 'str' transforma o 'int' em uma 'string'\n",
        "# print(\"I started wth $\" + savings + \" and now have $\" + result + \". Awesome!\") esse dá erro\n",
        "# Não pode concatenar um numero interiro com uma string\n",
        "print(\"I started wth $\" , savings , \" and now have $\" , result , \". Awesome!\") # A vírgula \"printa\" as variáveis usadas\n"
      ],
      "metadata": {
        "colab": {
          "base_uri": "https://localhost:8080/"
        },
        "id": "BiyfAEXoy4EG",
        "outputId": "f15308e4-d314-4cad-e6f5-f56373cb80dd"
      },
      "execution_count": 17,
      "outputs": [
        {
          "output_type": "stream",
          "name": "stdout",
          "text": [
            "I started wth $100 and now have $194.87171000000012. Awesome!\n",
            "I started wth $ 100  and now have $ 194.87171000000012 . Awesome!\n"
          ]
        }
      ]
    },
    {
      "cell_type": "code",
      "source": [],
      "metadata": {
        "id": "W1TQo-mZ5hZo"
      },
      "execution_count": null,
      "outputs": []
    }
  ]
}