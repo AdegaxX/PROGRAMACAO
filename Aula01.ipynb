{
  "nbformat": 4,
  "nbformat_minor": 0,
  "metadata": {
    "colab": {
      "provenance": [],
      "authorship_tag": "ABX9TyMaF9ZA/5qqYCyQPhmtqieE",
      "include_colab_link": true
    },
    "kernelspec": {
      "name": "python3",
      "display_name": "Python 3"
    },
    "language_info": {
      "name": "python"
    }
  },
  "cells": [
    {
      "cell_type": "markdown",
      "metadata": {
        "id": "view-in-github",
        "colab_type": "text"
      },
      "source": [
        "<a href=\"https://colab.research.google.com/github/AdegaxX/PROGRAMACAO/blob/main/Aula01.ipynb\" target=\"_parent\"><img src=\"https://colab.research.google.com/assets/colab-badge.svg\" alt=\"Open In Colab\"/></a>"
      ]
    },
    {
      "cell_type": "code",
      "execution_count": null,
      "metadata": {
        "colab": {
          "base_uri": "https://localhost:8080/"
        },
        "id": "VTk5YMVvECq7",
        "outputId": "6c9db963-fe6a-44aa-c36e-47729b2d186f"
      },
      "outputs": [
        {
          "output_type": "stream",
          "name": "stdout",
          "text": [
            "21.44127836209856\n"
          ]
        }
      ],
      "source": [
        "height = 1.79\n",
        "weight = 68.7\n",
        "weight / height ** 2\n",
        "bmi = weight / height ** 2\n",
        "print(bmi)\n"
      ]
    },
    {
      "cell_type": "code",
      "source": [
        "type(bmi) # Tipo Flutuante"
      ],
      "metadata": {
        "colab": {
          "base_uri": "https://localhost:8080/"
        },
        "id": "OVndOLyONPnj",
        "outputId": "5a129f6e-2e5e-4f04-ce90-225f5da6f13a"
      },
      "execution_count": null,
      "outputs": [
        {
          "output_type": "execute_result",
          "data": {
            "text/plain": [
              "float"
            ]
          },
          "metadata": {},
          "execution_count": 17
        }
      ]
    },
    {
      "cell_type": "code",
      "source": [
        "day_of_week = 5\n",
        "type(day_of_week) # Tipo Inteiro"
      ],
      "metadata": {
        "colab": {
          "base_uri": "https://localhost:8080/"
        },
        "id": "DyhOm-EgNWX1",
        "outputId": "af1fe920-0bde-4c06-d4a7-8171be7dd9c4"
      },
      "execution_count": null,
      "outputs": [
        {
          "output_type": "execute_result",
          "data": {
            "text/plain": [
              "int"
            ]
          },
          "metadata": {},
          "execution_count": 18
        }
      ]
    },
    {
      "cell_type": "code",
      "source": [
        "height = 1.79\n",
        "weight = 68.7"
      ],
      "metadata": {
        "id": "4LDWyupULDvr"
      },
      "execution_count": null,
      "outputs": []
    },
    {
      "cell_type": "code",
      "source": [
        "height"
      ],
      "metadata": {
        "colab": {
          "base_uri": "https://localhost:8080/"
        },
        "id": "JqOYe9QNLOiH",
        "outputId": "4762c41a-b7e9-4976-d1e3-5c767d8bc856"
      },
      "execution_count": null,
      "outputs": [
        {
          "output_type": "execute_result",
          "data": {
            "text/plain": [
              "1.79"
            ]
          },
          "metadata": {},
          "execution_count": 12
        }
      ]
    },
    {
      "cell_type": "code",
      "source": [
        "weight"
      ],
      "metadata": {
        "colab": {
          "base_uri": "https://localhost:8080/"
        },
        "id": "okjYnbKGLarO",
        "outputId": "d436d316-70ee-4fd5-ec6a-030d22a30aad"
      },
      "execution_count": null,
      "outputs": [
        {
          "output_type": "execute_result",
          "data": {
            "text/plain": [
              "68.7"
            ]
          },
          "metadata": {},
          "execution_count": 13
        }
      ]
    },
    {
      "cell_type": "code",
      "source": [
        "x = \"body mass index\"\n",
        "y = 'this work too'\n",
        "type(x) # Tipo String = Texto"
      ],
      "metadata": {
        "colab": {
          "base_uri": "https://localhost:8080/"
        },
        "id": "nyo7pSG7Nv2a",
        "outputId": "1635cdf2-a665-41be-aaf1-498763de427f"
      },
      "execution_count": null,
      "outputs": [
        {
          "output_type": "execute_result",
          "data": {
            "text/plain": [
              "str"
            ]
          },
          "metadata": {},
          "execution_count": 19
        }
      ]
    },
    {
      "cell_type": "code",
      "source": [
        "type(y)"
      ],
      "metadata": {
        "colab": {
          "base_uri": "https://localhost:8080/"
        },
        "id": "usLqAlSBN-bB",
        "outputId": "52349f13-86d6-45ce-ba64-dfdf426c975f"
      },
      "execution_count": null,
      "outputs": [
        {
          "output_type": "execute_result",
          "data": {
            "text/plain": [
              "str"
            ]
          },
          "metadata": {},
          "execution_count": 20
        }
      ]
    },
    {
      "cell_type": "code",
      "source": [
        "z = True\n",
        "type(z) # Tipo Booleana"
      ],
      "metadata": {
        "colab": {
          "base_uri": "https://localhost:8080/"
        },
        "id": "H0ZFE0UTOZJP",
        "outputId": "1bf28d2c-8b0c-465b-e22f-2e9de9607889"
      },
      "execution_count": null,
      "outputs": [
        {
          "output_type": "execute_result",
          "data": {
            "text/plain": [
              "bool"
            ]
          },
          "metadata": {},
          "execution_count": 21
        }
      ]
    },
    {
      "cell_type": "code",
      "source": [
        "u = False\n",
        "type(u)"
      ],
      "metadata": {
        "colab": {
          "base_uri": "https://localhost:8080/"
        },
        "id": "tN6-KPyvO5rn",
        "outputId": "8c0ee50e-3462-42c9-bafa-176817381327"
      },
      "execution_count": null,
      "outputs": [
        {
          "output_type": "execute_result",
          "data": {
            "text/plain": [
              "bool"
            ]
          },
          "metadata": {},
          "execution_count": 23
        }
      ]
    },
    {
      "cell_type": "code",
      "source": [
        "A = 'Leandro '\n",
        "B = 'Nascimento '\n",
        "C = 'Adegas'\n",
        "A + B + C # Essa 'junção' se chama Indentação = concatenação"
      ],
      "metadata": {
        "colab": {
          "base_uri": "https://localhost:8080/",
          "height": 35
        },
        "id": "gAoe0j2oPTtJ",
        "outputId": "25e4c06d-0b92-48dc-b32f-080e8a78273f"
      },
      "execution_count": null,
      "outputs": [
        {
          "output_type": "execute_result",
          "data": {
            "text/plain": [
              "'Leandro Nascimento Adegas'"
            ],
            "application/vnd.google.colaboratory.intrinsic+json": {
              "type": "string"
            }
          },
          "metadata": {},
          "execution_count": 28
        }
      ]
    },
    {
      "cell_type": "code",
      "source": [
        "(9 + 6) / 2"
      ],
      "metadata": {
        "colab": {
          "base_uri": "https://localhost:8080/"
        },
        "id": "RAkW_LC6Ph5m",
        "outputId": "c2e57ef7-efe6-499a-bb40-ed326b348fe0"
      },
      "execution_count": null,
      "outputs": [
        {
          "output_type": "execute_result",
          "data": {
            "text/plain": [
              "7.5"
            ]
          },
          "metadata": {},
          "execution_count": 26
        }
      ]
    },
    {
      "cell_type": "code",
      "source": [
        "# A hashtag representa um comentário em Python\n",
        "print(5/8)"
      ],
      "metadata": {
        "colab": {
          "base_uri": "https://localhost:8080/"
        },
        "id": "ai9ru9D_RNuu",
        "outputId": "32d2ef8c-93ae-4195-bd1d-83881e76d4c2"
      },
      "execution_count": null,
      "outputs": [
        {
          "output_type": "stream",
          "name": "stdout",
          "text": [
            "0.625\n"
          ]
        }
      ]
    },
    {
      "cell_type": "code",
      "source": [
        "soma = 5 + 3\n",
        "subtracao = 5 - 3\n",
        "print(soma)\n",
        "print(subtracao)"
      ],
      "metadata": {
        "colab": {
          "base_uri": "https://localhost:8080/"
        },
        "id": "xvO1BjQISrAX",
        "outputId": "f7f03c2c-59c2-4a6b-fbd3-adb592fd1f6f"
      },
      "execution_count": null,
      "outputs": [
        {
          "output_type": "stream",
          "name": "stdout",
          "text": [
            "8\n",
            "2\n"
          ]
        }
      ]
    },
    {
      "cell_type": "code",
      "source": [
        "potencia = 5 ** 3 # '**' Representa Potência \"elevado à\"\n",
        "mult = 5 * 3 # '*' Representa Multimplicação\n",
        "resto = 5 % 3 # '%' Representa o Resto da Divisão\n",
        "print(potencia)\n",
        "print(mult)\n",
        "print(resto)"
      ],
      "metadata": {
        "colab": {
          "base_uri": "https://localhost:8080/"
        },
        "id": "QMV9i-eETDlC",
        "outputId": "f02b6381-9062-44f8-c8ba-f915b3ba10fa"
      },
      "execution_count": null,
      "outputs": [
        {
          "output_type": "stream",
          "name": "stdout",
          "text": [
            "125\n",
            "15\n",
            "2\n"
          ]
        }
      ]
    },
    {
      "cell_type": "code",
      "source": [
        "mult = (100 * ( 11 / 100)) ** 7\n",
        "print(mult)"
      ],
      "metadata": {
        "colab": {
          "base_uri": "https://localhost:8080/"
        },
        "id": "j5IUyNsfq23c",
        "outputId": "eb058635-304e-4711-91eb-182d9fb0131e"
      },
      "execution_count": null,
      "outputs": [
        {
          "output_type": "stream",
          "name": "stdout",
          "text": [
            "19487171.0\n"
          ]
        }
      ]
    },
    {
      "cell_type": "code",
      "source": [
        "savings = 100\n",
        "growth_multiplier = 1.1\n",
        "year1 = savings * growth_multiplier\n",
        "dasc = \"compound interest \"\n",
        "# print(year1)\n",
        "doble_dasc = dasc + dasc\n",
        "print(doble_dasc)\n",
        "print(type(year1))\n"
      ],
      "metadata": {
        "colab": {
          "base_uri": "https://localhost:8080/"
        },
        "id": "GjL50wfStC-J",
        "outputId": "d7de6bf3-51fa-4feb-afc3-eebddf9bb16c"
      },
      "execution_count": null,
      "outputs": [
        {
          "output_type": "stream",
          "name": "stdout",
          "text": [
            "compound interest compound interest \n",
            "<class 'float'>\n"
          ]
        }
      ]
    },
    {
      "cell_type": "code",
      "source": [
        "pi_string = \"3.1415926\"\n",
        "pi_float = float(pi_string)\n",
        "\n",
        "print(pi_string)\n",
        "print(type(pi_string))\n",
        "print(pi_float)\n",
        "print(type(pi_float))"
      ],
      "metadata": {
        "colab": {
          "base_uri": "https://localhost:8080/"
        },
        "id": "MylnMG7fxRvd",
        "outputId": "0358d03d-a4be-4fe8-961d-a9481c0de597"
      },
      "execution_count": null,
      "outputs": [
        {
          "output_type": "stream",
          "name": "stdout",
          "text": [
            "3.1415926\n",
            "<class 'str'>\n",
            "3.1415926\n",
            "<class 'float'>\n"
          ]
        }
      ]
    },
    {
      "cell_type": "code",
      "source": [
        "savings = 100\n",
        "result = 100 * 1.10 ** 7\n",
        "\n",
        "print(\"I started wth $\" + str(savings) + \" and now have $\" + str(result) + \". Awesome!\") # O 'str' transforma o 'int' em uma 'string'\n",
        "# print(\"I started wth $\" + savings + \" and now have $\" + result + \". Awesome!\") esse dá erro\n",
        "# Não pode concatenar um numero interiro com uma string\n",
        "print(\"I started wth $\" , savings , \" and now have $\" , result , \". Awesome!\") # A vírgula \"printa\" as variáveis usadas\n"
      ],
      "metadata": {
        "colab": {
          "base_uri": "https://localhost:8080/"
        },
        "id": "BiyfAEXoy4EG",
        "outputId": "f15308e4-d314-4cad-e6f5-f56373cb80dd"
      },
      "execution_count": null,
      "outputs": [
        {
          "output_type": "stream",
          "name": "stdout",
          "text": [
            "I started wth $100 and now have $194.87171000000012. Awesome!\n",
            "I started wth $ 100  and now have $ 194.87171000000012 . Awesome!\n"
          ]
        }
      ]
    },
    {
      "cell_type": "code",
      "source": [
        "var = 'Olá mundo'\n",
        "print(var)"
      ],
      "metadata": {
        "id": "W1TQo-mZ5hZo",
        "colab": {
          "base_uri": "https://localhost:8080/"
        },
        "outputId": "adec8336-81f8-44e9-fa53-0bf212326d03"
      },
      "execution_count": null,
      "outputs": [
        {
          "output_type": "stream",
          "name": "stdout",
          "text": [
            "Olá mundo\n"
          ]
        }
      ]
    },
    {
      "cell_type": "code",
      "source": [
        "frutas = ['banana', 'manga', 'pera', 'uva']\n",
        "num = ['Leandro', 1.68, 'Messias', 1.75]\n",
        "print(frutas)\n",
        "print(type(frutas))\n",
        "print(num)\n",
        "print(type(num))"
      ],
      "metadata": {
        "colab": {
          "base_uri": "https://localhost:8080/"
        },
        "id": "AZGxauMU9kqw",
        "outputId": "ae699181-baa6-4051-b4f1-b64e4abdc482"
      },
      "execution_count": null,
      "outputs": [
        {
          "output_type": "stream",
          "name": "stdout",
          "text": [
            "['banana', 'manga', 'pera', 'uva']\n",
            "<class 'list'>\n",
            "['Leandro', 1.68, 'Messias', 1.75]\n",
            "<class 'list'>\n"
          ]
        }
      ]
    },
    {
      "cell_type": "code",
      "source": [
        "fam2 = [ ['Matheus', 1.70],\n",
        "         ['Messias', 1.75],\n",
        "         ['Mãe', 1.66],\n",
        "         ['Pai', 1.69] ]\n",
        "print(fam2)\n",
        "print(type(fam2))"
      ],
      "metadata": {
        "colab": {
          "base_uri": "https://localhost:8080/"
        },
        "id": "ZrW0uyMR_Ezt",
        "outputId": "597f053e-172e-4b04-fb8c-f5513efdcdd5"
      },
      "execution_count": null,
      "outputs": [
        {
          "output_type": "stream",
          "name": "stdout",
          "text": [
            "[['Matheus', 1.7], ['Messias', 1.75], ['Mãe', 1.66], ['Pai', 1.69]]\n",
            "<class 'list'>\n"
          ]
        }
      ]
    },
    {
      "cell_type": "code",
      "source": [
        "hall = 14.25 # Para alterar um valor da lista, basta atualizar a variável específica sem precisar mexer na lista em si\n",
        "kit = 18.0\n",
        "liv = 20.0\n",
        "bed = 10.75\n",
        "bath = 9.50\n",
        "area = [hall, kit, liv, bed, bath]\n",
        "print(area)\n",
        "print(type(area))"
      ],
      "metadata": {
        "colab": {
          "base_uri": "https://localhost:8080/"
        },
        "id": "5AEebviSBeKm",
        "outputId": "8443d139-6f1f-49f9-802b-a9acb26f2f85"
      },
      "execution_count": null,
      "outputs": [
        {
          "output_type": "stream",
          "name": "stdout",
          "text": [
            "[14.25, 18.0, 20.0, 10.75, 9.5]\n",
            "<class 'list'>\n"
          ]
        }
      ]
    },
    {
      "cell_type": "code",
      "source": [
        "hall = 14.25 # Para alterar um valor da lista, basta atualizar a variável específica sem precisar mexer na lista em si\n",
        "kit = 18.0\n",
        "liv = 20.0\n",
        "bed = 10.75\n",
        "bath = 9.50\n",
        "area = ['Casa', hall,'cozinha', kit, 'sala', liv, 'quarto', bed, 'banheiro', bath] # Uma string e o seu valor/descrição\n",
        "print(area)\n",
        "print(type(area))"
      ],
      "metadata": {
        "colab": {
          "base_uri": "https://localhost:8080/"
        },
        "id": "8DqNdMg2Dknk",
        "outputId": "9f77ef79-32d6-41b3-c676-456404fc257a"
      },
      "execution_count": null,
      "outputs": [
        {
          "output_type": "stream",
          "name": "stdout",
          "text": [
            "['Casa', 14.25, 'cozinha', 18.0, 'sala', 20.0, 'quarto', 10.75, 'banheiro', 9.5]\n",
            "<class 'list'>\n"
          ]
        }
      ]
    },
    {
      "cell_type": "code",
      "source": [
        "A = [1,2,3] # Uma lista composta por 3 números inteiros\n",
        "B = [[2,4,6], [1,3,5]] # Uma lista composta por duas sub-listas, cada uma com 3 números inteiros\n",
        "C = [1+2,'a'*5,3] # Uma lista composta por uma soma de dois números '1+2', a multiplicação de uma string 'a' 5 vezes e um número '3'\n",
        "print(A , B , C)"
      ],
      "metadata": {
        "colab": {
          "base_uri": "https://localhost:8080/"
        },
        "id": "GAPgayPEEwaK",
        "outputId": "40ee87c7-677f-4010-92b8-e5aa11a34d91"
      },
      "execution_count": null,
      "outputs": [
        {
          "output_type": "stream",
          "name": "stdout",
          "text": [
            "[1, 2, 3] [[2, 4, 6], [1, 3, 5]] [3, 'aaaaa', 3]\n"
          ]
        }
      ]
    },
    {
      "cell_type": "code",
      "source": [
        "hall = 14.25\n",
        "kit = 18.0\n",
        "liv = 20.0\n",
        "bed = 10.75\n",
        "bath = 9.50\n",
        "house = [\n",
        "          ['Casa', hall],\n",
        "          ['cozinha', kit],\n",
        "          ['sala', liv],\n",
        "          ['quarto', bed],\n",
        "          ['banheiro', bath]\n",
        "        ]\n",
        "print(house)\n",
        "print(type(house))"
      ],
      "metadata": {
        "colab": {
          "base_uri": "https://localhost:8080/"
        },
        "id": "AI8b-lfEGaX-",
        "outputId": "b6bdbe0e-660c-4d2a-8b05-184e216f066c"
      },
      "execution_count": null,
      "outputs": [
        {
          "output_type": "stream",
          "name": "stdout",
          "text": [
            "[['Casa', 14.25], ['cozinha', 18.0], ['sala', 20.0], ['quarto', 10.75], ['banheiro', 9.5]]\n",
            "<class 'list'>\n"
          ]
        }
      ]
    },
    {
      "cell_type": "code",
      "source": [
        "hall = 14.25 # Para alterar um valor da lista, basta atualizar a variável específica sem precisar mexer na lista em si\n",
        "kit = 18.0\n",
        "liv = 20.0\n",
        "bed = 10.75\n",
        "bath = 9.50\n",
        "area = ['Casa', hall,'cozinha', kit, 'sala', liv, 'quarto', bed, 'banheiro', bath]\n",
        "area[2]\n",
        "print(area[-1])\n",
        "print(area[0])\n",
        "print(area[1])\n",
        "print(area[3])\n",
        "print(area[4])\n",
        "print(area[5])\n",
        "print(area[6])\n",
        "print(area[7])\n",
        "print(area[8])\n",
        "print(area[9])"
      ],
      "metadata": {
        "colab": {
          "base_uri": "https://localhost:8080/"
        },
        "id": "-NebRGJTIXis",
        "outputId": "d3ad70ef-723a-4c7c-936f-4427853def60"
      },
      "execution_count": null,
      "outputs": [
        {
          "output_type": "stream",
          "name": "stdout",
          "text": [
            "9.5\n",
            "Casa\n",
            "14.25\n",
            "18.0\n",
            "sala\n",
            "20.0\n",
            "quarto\n",
            "10.75\n",
            "banheiro\n",
            "9.5\n"
          ]
        }
      ]
    },
    {
      "cell_type": "code",
      "source": [
        "hall = 14.25 # Para alterar um valor da lista, basta atualizar a variável específica sem precisar mexer na lista em si\n",
        "kit = 18.0\n",
        "liv = 20.0\n",
        "bed = 10.75\n",
        "bath = 9.50\n",
        "area = ['Casa', hall,'cozinha', kit, 'sala', liv, 'quarto', bed, 'banheiro', bath]\n",
        "print(area[2:7]) # Pega partes de uma lista utilizando \"num : num\"\n",
        "print(area[0:4])\n",
        "print(area[4:9])\n",
        "print(area[ :4]) # Pega do inicio da lista até o elemento 4\n",
        "print(area[4: ]) # Pega do elemento 2 até o fim da lista"
      ],
      "metadata": {
        "colab": {
          "base_uri": "https://localhost:8080/"
        },
        "id": "MXDbgw9cKEv_",
        "outputId": "24eb006f-682a-4f76-e403-7b1aa0596f89"
      },
      "execution_count": null,
      "outputs": [
        {
          "output_type": "stream",
          "name": "stdout",
          "text": [
            "['cozinha', 18.0, 'sala', 20.0, 'quarto']\n",
            "['Casa', 14.25, 'cozinha', 18.0]\n",
            "['sala', 20.0, 'quarto', 10.75, 'banheiro']\n",
            "['Casa', 14.25, 'cozinha', 18.0]\n",
            "['sala', 20.0, 'quarto', 10.75, 'banheiro', 9.5]\n"
          ]
        }
      ]
    },
    {
      "cell_type": "code",
      "source": [
        "hall = 14.25\n",
        "kit = 18.0\n",
        "liv = 20.0\n",
        "bed = 10.75\n",
        "bath = 9.50\n",
        "area = ['Casa', hall,'cozinha', kit, 'sala', liv, 'quarto', bed, 'banheiro', bath]\n",
        "print(area[1])\n",
        "print(area[-1])\n",
        "print(area[4])"
      ],
      "metadata": {
        "colab": {
          "base_uri": "https://localhost:8080/"
        },
        "id": "vtfCA3QeLgEh",
        "outputId": "2ca993e9-f285-403d-9c71-d57c7560ce89"
      },
      "execution_count": null,
      "outputs": [
        {
          "output_type": "stream",
          "name": "stdout",
          "text": [
            "14.25\n",
            "9.5\n",
            "sala\n"
          ]
        }
      ]
    },
    {
      "cell_type": "code",
      "source": [
        "# Aula 29/03/2023:\n",
        "hall = 14.25\n",
        "kit = 18.0\n",
        "liv = 20.0\n",
        "bed = 10.75\n",
        "bath = 9.50\n",
        "area = ['Casa', hall,'cozinha', kit, 'sala', liv, 'quarto', bed, 'banheiro', bath]\n",
        "eat_sleep_area = area [3] + area [5] # Soma dos valores que estão dentro da lista\n",
        "print(eat_sleep_area)\n",
        "print(eat_sleep_area * 2)"
      ],
      "metadata": {
        "colab": {
          "base_uri": "https://localhost:8080/"
        },
        "id": "On3ji1wHt67C",
        "outputId": "ee78a9d9-7f87-4c49-b2c5-7c9ae806c0c5"
      },
      "execution_count": null,
      "outputs": [
        {
          "output_type": "stream",
          "name": "stdout",
          "text": [
            "38.0\n",
            "76.0\n"
          ]
        }
      ]
    },
    {
      "cell_type": "code",
      "source": [
        "hall = 14.25\n",
        "kit = 18.0\n",
        "liv = 20.0\n",
        "bed = 10.75\n",
        "bath = 9.50\n",
        "area = ['Casa', hall,'cozinha', kit, 'sala', liv, 'quarto', bed, 'banheiro', bath]\n",
        "\n",
        "downstairs = area [ :6]\n",
        "upstairs = area [6: ]\n",
        "print(downstairs)\n",
        "print(upstairs)"
      ],
      "metadata": {
        "colab": {
          "base_uri": "https://localhost:8080/"
        },
        "id": "kK1y-CI6w9bP",
        "outputId": "ea9c8ff0-6566-4bf0-f8e0-fd52b5a34bf3"
      },
      "execution_count": null,
      "outputs": [
        {
          "output_type": "stream",
          "name": "stdout",
          "text": [
            "['Casa', 14.25, 'cozinha', 18.0, 'sala', 20.0]\n",
            "['quarto', 10.75, 'banheiro', 9.5]\n"
          ]
        }
      ]
    },
    {
      "cell_type": "code",
      "source": [
        "list = [\n",
        "       ['a', 'b', 'c'],\n",
        "       ['d', 'e', 'f'],\n",
        "       ['g', 'h', 'i']\n",
        "       ]\n",
        "\n",
        "print(list[-1][1]) # Pega a última sublista [-1] e o segundo elemento da sublista [1]\n",
        "\n",
        "hall = 14.25\n",
        "kit = 18.0\n",
        "liv = 20.0\n",
        "bed = 10.75\n",
        "bath = 9.50\n",
        "house = [\n",
        "        ['Casa', hall],\n",
        "        ['cozinha', kit],\n",
        "        ['sala', liv],\n",
        "        ['quarto', bed],\n",
        "        ['banheiro', bath]\n",
        "        ]\n",
        "print(house[-1][1]) # Pega a última sublista [-1] e o segundo elemento da lista [1]\n",
        "print(house[2][0]) # Pega a terceira sublista [2] e o primeiro elemento da lista [0]"
      ],
      "metadata": {
        "colab": {
          "base_uri": "https://localhost:8080/"
        },
        "id": "BZ8FFOjzyqBY",
        "outputId": "2574723a-4f56-4eab-d7a3-29b75d2a3958"
      },
      "execution_count": null,
      "outputs": [
        {
          "output_type": "stream",
          "name": "stdout",
          "text": [
            "h\n",
            "9.5\n",
            "sala\n"
          ]
        }
      ]
    },
    {
      "cell_type": "code",
      "source": [
        "hall = 14.25\n",
        "kit = 18.0\n",
        "liv = 20.0\n",
        "bed = 10.75\n",
        "bath = 9.50\n",
        "area = ['Casa', hall,'cozinha', kit, 'sala', liv, 'quarto', bed, 'banheiro', bath]\n",
        "print(area)\n",
        "area [3] = 20.0 # Substitui do valor do elemento 'kit' (18.0) por 20.0\n",
        "print(area)"
      ],
      "metadata": {
        "colab": {
          "base_uri": "https://localhost:8080/"
        },
        "id": "a5MYIBVZ1KqG",
        "outputId": "ae97d6bf-26c6-4f99-fea9-87934314d0d3"
      },
      "execution_count": null,
      "outputs": [
        {
          "output_type": "stream",
          "name": "stdout",
          "text": [
            "['Casa', 14.25, 'cozinha', 18.0, 'sala', 20.0, 'quarto', 10.75, 'banheiro', 9.5]\n",
            "['Casa', 14.25, 'cozinha', 20.0, 'sala', 20.0, 'quarto', 10.75, 'banheiro', 9.5]\n"
          ]
        }
      ]
    },
    {
      "cell_type": "code",
      "source": [
        "hall = 14.25\n",
        "kit = 18.0\n",
        "liv = 20.0\n",
        "bed = 10.75\n",
        "bath = 9.50\n",
        "area = ['Casa', hall,'cozinha', kit, 'sala', liv, 'quarto', bed, 'banheiro', bath]\n",
        "\n",
        "area [0:2] = 'house', 15\n",
        "print(area)"
      ],
      "metadata": {
        "colab": {
          "base_uri": "https://localhost:8080/"
        },
        "id": "BzXWrFAx2Fxe",
        "outputId": "b1f73671-5dc3-4fb3-d520-c162811a2f93"
      },
      "execution_count": null,
      "outputs": [
        {
          "output_type": "stream",
          "name": "stdout",
          "text": [
            "['house', 15, 'cozinha', 18.0, 'sala', 20.0, 'quarto', 10.75, 'banheiro', 9.5]\n"
          ]
        }
      ]
    },
    {
      "cell_type": "code",
      "source": [
        "fam = ['liz', 1.79, 'emma', 1.68, 'mom', 1.71, 'dad', 1.89]\n",
        "fam + ['me', 1.65]\n",
        "familia = fam + ['me', 1.65] # Adiciona 'me' e 1.65 na lista familia\n",
        "print(fam)\n",
        "print(familia)\n",
        "del(familia[2]) # Deleta o elemento três da lista [2]\n",
        "print(familia)"
      ],
      "metadata": {
        "colab": {
          "base_uri": "https://localhost:8080/"
        },
        "id": "U7pjJi0n4DDV",
        "outputId": "3bfe16fa-b453-4309-9661-02edc755e720"
      },
      "execution_count": null,
      "outputs": [
        {
          "output_type": "stream",
          "name": "stdout",
          "text": [
            "['liz', 1.79, 'emma', 1.68, 'mom', 1.71, 'dad', 1.89]\n",
            "['liz', 1.79, 'emma', 1.68, 'mom', 1.71, 'dad', 1.89, 'me', 1.65]\n",
            "['liz', 1.79, 1.68, 'mom', 1.71, 'dad', 1.89, 'me', 1.65]\n"
          ]
        }
      ]
    },
    {
      "cell_type": "code",
      "source": [
        "x = ['a', 'b', 'c']\n",
        "y = x # Fez com que x e y sejam a mesma coisa\n",
        "y[1] = 'z'\n",
        "print(y)\n",
        "print(x)"
      ],
      "metadata": {
        "colab": {
          "base_uri": "https://localhost:8080/"
        },
        "id": "ggNtcJ9934IO",
        "outputId": "94bc7b86-701d-4322-a236-6fe3ac477ef9"
      },
      "execution_count": null,
      "outputs": [
        {
          "output_type": "stream",
          "name": "stdout",
          "text": [
            "['a', 'z', 'c']\n",
            "['a', 'z', 'c']\n"
          ]
        }
      ]
    },
    {
      "cell_type": "code",
      "source": [
        "x = ['a', 'b', 'c']\n",
        "y = list(x) # usando isto, faz com que o valor de 'x' não se altere e coloca a lista de 'x' em 'y' que irá receber os mesmos valores. Alterando 'y' não irá afetar o 'x'.\n",
        "y[1] = 'z'\n",
        "print(x)\n",
        "print(y)"
      ],
      "metadata": {
        "colab": {
          "base_uri": "https://localhost:8080/",
          "height": 246
        },
        "id": "wUPfTfho61-d",
        "outputId": "52bb3924-21fc-498b-9320-5c5807b332be"
      },
      "execution_count": null,
      "outputs": [
        {
          "output_type": "error",
          "ename": "TypeError",
          "evalue": "ignored",
          "traceback": [
            "\u001b[0;31m---------------------------------------------------------------------------\u001b[0m",
            "\u001b[0;31mTypeError\u001b[0m                                 Traceback (most recent call last)",
            "\u001b[0;32m<ipython-input-36-a354e442bc5d>\u001b[0m in \u001b[0;36m<cell line: 2>\u001b[0;34m()\u001b[0m\n\u001b[1;32m      1\u001b[0m \u001b[0mx\u001b[0m \u001b[0;34m=\u001b[0m \u001b[0;34m[\u001b[0m\u001b[0;34m'a'\u001b[0m\u001b[0;34m,\u001b[0m \u001b[0;34m'b'\u001b[0m\u001b[0;34m,\u001b[0m \u001b[0;34m'c'\u001b[0m\u001b[0;34m]\u001b[0m\u001b[0;34m\u001b[0m\u001b[0;34m\u001b[0m\u001b[0m\n\u001b[0;32m----> 2\u001b[0;31m \u001b[0my\u001b[0m \u001b[0;34m=\u001b[0m \u001b[0mlist\u001b[0m\u001b[0;34m(\u001b[0m\u001b[0mx\u001b[0m\u001b[0;34m)\u001b[0m\u001b[0;34m\u001b[0m\u001b[0;34m\u001b[0m\u001b[0m\n\u001b[0m\u001b[1;32m      3\u001b[0m \u001b[0my\u001b[0m\u001b[0;34m[\u001b[0m\u001b[0;36m1\u001b[0m\u001b[0;34m]\u001b[0m \u001b[0;34m=\u001b[0m \u001b[0;34m'z'\u001b[0m\u001b[0;34m\u001b[0m\u001b[0;34m\u001b[0m\u001b[0m\n\u001b[1;32m      4\u001b[0m \u001b[0mprint\u001b[0m\u001b[0;34m(\u001b[0m\u001b[0mx\u001b[0m\u001b[0;34m)\u001b[0m\u001b[0;34m\u001b[0m\u001b[0;34m\u001b[0m\u001b[0m\n\u001b[1;32m      5\u001b[0m \u001b[0mprint\u001b[0m\u001b[0;34m(\u001b[0m\u001b[0my\u001b[0m\u001b[0;34m)\u001b[0m\u001b[0;34m\u001b[0m\u001b[0;34m\u001b[0m\u001b[0m\n",
            "\u001b[0;31mTypeError\u001b[0m: 'list' object is not callable"
          ]
        }
      ]
    },
    {
      "cell_type": "code",
      "source": [
        "area = ['Casa', hall,'cozinha', kit, 'sala', liv, 'quarto', bed, 'banheiro', bath]\n",
        "print(area)\n",
        "area [9] = 10.9\n",
        "area [4] = 'sala-de-estar'\n",
        "print(area)"
      ],
      "metadata": {
        "colab": {
          "base_uri": "https://localhost:8080/"
        },
        "id": "CALLlGOf8E44",
        "outputId": "555f7eab-efff-431b-d79b-2288a001f263"
      },
      "execution_count": null,
      "outputs": [
        {
          "output_type": "stream",
          "name": "stdout",
          "text": [
            "['Casa', 14.25, 'cozinha', 18.0, 'sala', 20.0, 'quarto', 10.75, 'banheiro', 9.5]\n",
            "['Casa', 14.25, 'cozinha', 18.0, 'sala-de-estar', 20.0, 'quarto', 10.75, 'banheiro', 10.9]\n"
          ]
        }
      ]
    },
    {
      "cell_type": "code",
      "source": [
        "# atividade de classe 8)\n",
        "areas = [\"hallway\", 11.25, \"kitchen\", 18.0, \"chill zone\", 20.0, \"bedroom\", 10.75, \"bathroom\", 10.50]\n",
        "print(areas)\n",
        "areas_1 = areas + [\"poolhouse\", 24.5]\n",
        "print(areas_1)\n",
        "\n",
        "# atividade de classe 8.1)\n",
        "areas_2 = areas_1 + [\"garage\", 15.5]\n",
        "\n",
        "# atividade de classe 8.2)\n",
        "print(areas_2)"
      ],
      "metadata": {
        "colab": {
          "base_uri": "https://localhost:8080/"
        },
        "id": "QP_qfEibBNdU",
        "outputId": "e08543db-de75-4247-ca2c-fd9d76880c2e"
      },
      "execution_count": null,
      "outputs": [
        {
          "output_type": "stream",
          "name": "stdout",
          "text": [
            "['hallway', 11.25, 'kitchen', 18.0, 'chill zone', 20.0, 'bedroom', 10.75, 'bathroom', 10.5]\n",
            "['hallway', 11.25, 'kitchen', 18.0, 'chill zone', 20.0, 'bedroom', 10.75, 'bathroom', 10.5, 'poolhouse', 24.5]\n",
            "['hallway', 11.25, 'kitchen', 18.0, 'chill zone', 20.0, 'bedroom', 10.75, 'bathroom', 10.5, 'poolhouse', 24.5, 'garage', 15.5]\n"
          ]
        }
      ]
    },
    {
      "cell_type": "code",
      "source": [
        "# atividade de classe 9)\n",
        "areas = [11.25, 18.0, 20.0, 10.75, 9.50]\n",
        "areas_copy = list(areas) # Atribui a lista 'areas' à 'areas_copy', fazendo uma cópia\n",
        "areas_copy[0] = 5.0 # Substitui o '11.25' por '5.0'\n",
        "print(areas)\n",
        "print(areas_copy)"
      ],
      "metadata": {
        "colab": {
          "base_uri": "https://localhost:8080/"
        },
        "id": "R9rZYwesDLyD",
        "outputId": "2bc12f69-8915-40b1-835d-38ac0cd1aa4e"
      },
      "execution_count": null,
      "outputs": [
        {
          "output_type": "stream",
          "name": "stdout",
          "text": [
            "[11.25, 18.0, 20.0, 10.75, 9.5]\n",
            "[5.0, 18.0, 20.0, 10.75, 9.5]\n"
          ]
        }
      ]
    },
    {
      "cell_type": "code",
      "source": [
        "# 1) Elabore um código em que existe as variáveis : aluno, nota1, nota2,nota3, media. Neste código você deve escolher uma string para a variável aluno, float para cada nota. Pesquise o cálculo da média aritmética e aplique o resuldado do cálculo na variável media. Por fim, usando o comando print, mostre o nome do aluno ao lado de sua media. Use a função print para mostrar o tipo da variável aluno e tipo da variável media.\n",
        "\n",
        "#Resposta\n",
        "aluno = \"Adegax\"\n",
        "nota1 = 10\n",
        "nota2 = 10.5\n",
        "nota3 = 9.5\n",
        "media = (10+10.5+9.5)/3\n",
        "#exibição da variável media\n",
        "print(media) \n",
        "#exibição do tipo da variavel aluno\n",
        "print(aluno)\n",
        "#exibição do tipo da variavel media\n",
        "print(type(media))"
      ],
      "metadata": {
        "colab": {
          "base_uri": "https://localhost:8080/"
        },
        "id": "Hy90CvicEpaI",
        "outputId": "c214858b-1f7d-41cd-9a07-a8f51df4399a"
      },
      "execution_count": null,
      "outputs": [
        {
          "output_type": "stream",
          "name": "stdout",
          "text": [
            "10.0\n",
            "Adegax\n",
            "<class 'float'>\n"
          ]
        }
      ]
    },
    {
      "cell_type": "code",
      "source": [
        "# 2) ELabore um código que realiza a concatenção de strings para formar um nome. Ao fim, exiba, através do comando print, o nome concatenado (nome_completo).\n",
        "#RESPOSTA\n",
        "nome = \"Leandro \"\n",
        "sobrenome = \"Adegas\"\n",
        "nome_completo = nome + sobrenome\n",
        "#exibição do nome concatenado\n",
        "print(nome_completo)"
      ],
      "metadata": {
        "colab": {
          "base_uri": "https://localhost:8080/"
        },
        "id": "5SA_6OolGoIW",
        "outputId": "f2452bd6-9e0c-4758-cf27-b492a05283a4"
      },
      "execution_count": null,
      "outputs": [
        {
          "output_type": "stream",
          "name": "stdout",
          "text": [
            "Leandro Adegas\n"
          ]
        }
      ]
    },
    {
      "cell_type": "code",
      "source": [
        "# 3) Elabore um código em que seja criada uma lista de alimentos em forma de string. Nesta lista você deve escolher  10 alimentos.\n",
        "# a) realize o print do último alimento usando index negativo\n",
        "# b) realize o print do quarto elemento da lista\n",
        "# c) realize o print dos 5 primeiros elementos da lista\n",
        "# d) realize o print do 3 ultimos elementos da lista\n",
        "# e) realize o print do terceiro até o sétimo elemento da lista\n",
        "\n",
        "#Resposta\n",
        "lista_de_alimentos = ['Pão', 'ovo', 'macarrão', 'arroz', 'feijão', 'açaí', 'caviar', 'ketchup', 'salsicha', 'dindin']\n",
        "print(lista_de_alimentos)\n",
        "#item a\n",
        "print(lista_de_alimentos[-1])\n",
        "#item b\n",
        "print(lista_de_alimentos[3])\n",
        "#item c\n",
        "print(lista_de_alimentos[ :5])\n",
        "#item d\n",
        "print(lista_de_alimentos[7: ])\n",
        "#item e\n",
        "print(lista_de_alimentos[2:8])"
      ],
      "metadata": {
        "colab": {
          "base_uri": "https://localhost:8080/"
        },
        "id": "ip5b_us4HPAl",
        "outputId": "1ff18350-f6d2-429c-e9b0-b977a50db563"
      },
      "execution_count": null,
      "outputs": [
        {
          "output_type": "stream",
          "name": "stdout",
          "text": [
            "['Pão', 'ovo', 'macarrão', 'arroz', 'feijão', 'açaí', 'caviar', 'ketchup', 'salsicha', 'dindin']\n",
            "dindin\n",
            "arroz\n",
            "['Pão', 'ovo', 'macarrão', 'arroz', 'feijão']\n",
            "['ketchup', 'salsicha', 'dindin']\n",
            "['macarrão', 'arroz', 'feijão', 'açaí', 'caviar', 'ketchup']\n"
          ]
        }
      ]
    },
    {
      "cell_type": "code",
      "source": [
        "# 4) Adapte a lista de alimentos criada na questão 3 para incluir o preço da cada alimento. Após cada string você deve incluir um valor numérico que representa o preço do alimento\n",
        "# a) Crie uma variavel `gasto_total` que recebe a soma de todos os preços, acessando a lista pelos indexes.\n",
        "# b) mostre via print o valor da variável `gasto_total`\n",
        "# c) crie uma nova lista chamada `alimentos_mais_caros` que contem os 3 alimentos mais caros. Nessa lista deve conter os alimentos com valor ao lado. a inclusão dos elementos na lista deve ser via index. Ex: `lista_nova = [lista_antiga[2],lista_antiga[3]...]`\n",
        "# d) mostre via print a lista `alimentos_mais_caros`\n",
        "\n",
        "#resposta\n",
        "preco = ['Pão', 4.50, 'ovo', 20.50, 'macarrão', 5.00, 'arroz', 5.50, 'feijão', 8.50, 'açaí', 12.60, 'caviar', 120.50, 'ketchup', 3.30, 'salsicha', 5.4, 'dindin',2.50]\n",
        "#item a\n",
        "gasto_total = preco[1]+preco[3]+preco[5]+preco[7]+preco[9]+preco[11]+preco[13]+preco[15]+preco[17]+preco[19]\n",
        "#item b\n",
        "print(gasto_total)\n",
        "#item c\n",
        "alimentos_mais_caros = [preco[12:14], preco[2:4], preco[10:12]] # O primeiro valor é o que realmente quer e o segundo valor é um depois\n",
        "#item d\n",
        "print(alimentos_mais_caros)"
      ],
      "metadata": {
        "colab": {
          "base_uri": "https://localhost:8080/"
        },
        "id": "26LwIRI7R-Wc",
        "outputId": "c6b976c8-df49-4fc2-d194-5461b5807ee5"
      },
      "execution_count": null,
      "outputs": [
        {
          "output_type": "stream",
          "name": "stdout",
          "text": [
            "188.3\n",
            "[['caviar', 120.5], ['ovo', 20.5], ['açaí', 12.6]]\n"
          ]
        }
      ]
    },
    {
      "cell_type": "code",
      "source": [
        "# 5) Adpate a lista de alimentos criada na questão 4. Agora a estrutura deve ser uma lista de listas. cada elemento com preço deve ser um lista, ou seja, a lista de alimentos deve conter 5 listas, em que cada lista possui um alimento e seu preço.\n",
        "# a) Crie uma variável `lista3` para ammazenar a terceiira lista contida na lista de alimentos. \n",
        "# b) Exiba a variável `lista3` \n",
        "# c) Crie uma variável `lista2a4` para armazenar da segunda até a quarta lista contida na lsita de alimentos.\n",
        "# d) Acessando os indexes da lista de alimentos no modo exemplo `lista[id1][id2]` realize os prints:\n",
        "#  d1) do preço do terceiro alimento da lista\n",
        "#  d2) do alimento da quarta lista\n",
        "#  d3) do preço do quinto elemento da lista\n",
        "#  d4) do alimento da primeira lista.\n",
        "\n",
        "#resposta\n",
        "adaptada = [\n",
        "            ['Pão', 4.50],\n",
        "            ['ovo', 20.50],\n",
        "            ['macarrão', 5.00],\n",
        "            ['arroz', 5.50],\n",
        "            ['feijão', 8.50],\n",
        "            ['açaí', 12.60],\n",
        "            ['caviar', 120.50],\n",
        "            ['ketchup', 3.30],\n",
        "            ['salsicha', 5.4],\n",
        "            ['dindin',2.50]\n",
        "           ]\n",
        "#item a\n",
        "lista3 = adaptada[2]\n",
        "#item b\n",
        "print(lista3)\n",
        "#item c\n",
        "lista2a4 = adaptada[1:4]\n",
        "print(lista2a4)\n",
        "#item d1\n",
        "print(adaptada[2][1])\n",
        "#item d2\n",
        "print(adaptada[3][0])\n",
        "#item d3\n",
        "print(adaptada[4][1])\n",
        "#item d4\n",
        "print(adaptada[0][0])"
      ],
      "metadata": {
        "colab": {
          "base_uri": "https://localhost:8080/"
        },
        "id": "Rowc6dAnW7D9",
        "outputId": "ca5e87ea-5d95-4c7a-8875-360a3b5fb642"
      },
      "execution_count": null,
      "outputs": [
        {
          "output_type": "stream",
          "name": "stdout",
          "text": [
            "['macarrão', 5.0]\n",
            "[['ovo', 20.5], ['macarrão', 5.0], ['arroz', 5.5]]\n",
            "5.0\n",
            "arroz\n",
            "8.5\n",
            "Pão\n"
          ]
        }
      ]
    }
  ]
}