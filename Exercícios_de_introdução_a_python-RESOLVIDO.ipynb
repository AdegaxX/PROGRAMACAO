{
  "nbformat": 4,
  "nbformat_minor": 0,
  "metadata": {
    "colab": {
      "provenance": [],
      "include_colab_link": true
    },
    "kernelspec": {
      "name": "python3",
      "display_name": "Python 3"
    },
    "language_info": {
      "name": "python"
    }
  },
  "cells": [
    {
      "cell_type": "markdown",
      "metadata": {
        "id": "view-in-github",
        "colab_type": "text"
      },
      "source": [
        "<a href=\"https://colab.research.google.com/github/AdegaxX/PROGRAMACAO/blob/main/Exerci%CC%81cios_de_introduc%CC%A7a%CC%83o_a_python-RESOLVIDO.ipynb\" target=\"_parent\"><img src=\"https://colab.research.google.com/assets/colab-badge.svg\" alt=\"Open In Colab\"/></a>"
      ]
    },
    {
      "cell_type": "markdown",
      "source": [
        "1) Refaça e complete o código para que seja possível a saída informada:\n",
        "\n",
        "![img1.png](data:image/png;base64,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)"
      ],
      "metadata": {
        "id": "O5FWkaYFfPw8"
      }
    },
    {
      "cell_type": "code",
      "execution_count": null,
      "metadata": {
        "id": "24dJdD9Kdot9",
        "colab": {
          "base_uri": "https://localhost:8080/"
        },
        "outputId": "146a600c-61ac-45d3-f817-396f9676b214"
      },
      "outputs": [
        {
          "output_type": "stream",
          "name": "stdout",
          "text": [
            "(3, 2)\n"
          ]
        }
      ],
      "source": [
        "#Resposta: \n",
        "import numpy as np\n",
        "numbers = [[50, 3], [21, 15], [32, 80]]\n",
        "np_array = np.array(numbers)\n",
        "print(np_array.shape)"
      ]
    },
    {
      "cell_type": "markdown",
      "source": [
        "2) Dado a lista seguinte x = [2, 5, 4, 0, 7, 1], qual o restorno quando excutamos x[1] ?"
      ],
      "metadata": {
        "id": "FBCLQMBif07g"
      }
    },
    {
      "cell_type": "code",
      "source": [
        "# Resposta: O resultado será 5"
      ],
      "metadata": {
        "id": "pB0ui8XQicpr"
      },
      "execution_count": null,
      "outputs": []
    },
    {
      "cell_type": "markdown",
      "source": [
        "3) Sunponha a lista x_1 = [5,6,4,3], x_2 = [8,9,10,7] e x_3 = [3,6,2,5]. Deseja obter um array com valores médios: media = [m1,m2,m3,m4]. Escreva um código que permita calcular esse array. "
      ],
      "metadata": {
        "id": "CvGyyDpjgi5n"
      }
    },
    {
      "cell_type": "code",
      "source": [
        "#Resposta:\n",
        "import numpy as np\n",
        "\n",
        "listaX_1 = [5,6,4,3]\n",
        "listaX_2 = [8,9,10,7]\n",
        "listaX_3 = [3,6,2,5]\n",
        "\n",
        "np_media = np.array([listaX_1] + [listaX_2] + [listaX_3]) # Juntou as 3 listas em uma lista de listas.\n",
        "print(np_media) \n",
        "\n",
        "m1 = np.array(np_media[:,0]) # Recebe a primeira coluna\n",
        "m2 = np.array(np_media[:,1]) # Recebe a segunda coluna\n",
        "m3 = np.array(np_media[:,2]) # Recebe a terceira coluna\n",
        "m4 = np.array(np_media[:,3]) # Recebe a quarta coluna\n",
        "\n",
        "med1 = np.mean(m1) # Calculou a média da primeira coluna\n",
        "med2 = np.mean(m2) # Calculou a média da segunda coluna\n",
        "med3 = np.mean(m3) # Calculou a média da terceira coluna\n",
        "med4 = np.mean(m4) # Calculou a média da quarta coluna\n",
        "\n",
        "media = [med1,med2,med3,med4] # Criou uma lista com as médias\n",
        "\n",
        "print(media)"
      ],
      "metadata": {
        "id": "JXAd21Y0kKRK",
        "colab": {
          "base_uri": "https://localhost:8080/"
        },
        "outputId": "69419b73-ca7e-4b98-9ed6-642dce42e44f"
      },
      "execution_count": null,
      "outputs": [
        {
          "output_type": "stream",
          "name": "stdout",
          "text": [
            "[[ 5  6  4  3]\n",
            " [ 8  9 10  7]\n",
            " [ 3  6  2  5]]\n",
            "[5.333333333333333, 7.0, 5.333333333333333, 5.0]\n"
          ]
        }
      ]
    },
    {
      "cell_type": "markdown",
      "source": [
        "4) Crie uma lista que contem 4 listas, em que cada sublista possui 2 itens: um nome e uma idade. Printe a idade do terceira pessoa da lista."
      ],
      "metadata": {
        "id": "85BH9RgJkWsq"
      }
    },
    {
      "cell_type": "code",
      "source": [
        "#Resposta\n",
        "lista = [[\"Leandro\", 24],\n",
        "         [\"Lia\", 23],\n",
        "         [\"Rafael\", 22],\n",
        "         [\"Dani\", 18]]\n",
        "print(lista[2][1]) # Coluna X Linha"
      ],
      "metadata": {
        "id": "3rnca80qkJEI",
        "colab": {
          "base_uri": "https://localhost:8080/"
        },
        "outputId": "f78dd61f-ba47-42c9-cd2d-c9988de6ea98"
      },
      "execution_count": null,
      "outputs": [
        {
          "output_type": "stream",
          "name": "stdout",
          "text": [
            "22\n"
          ]
        }
      ]
    },
    {
      "cell_type": "markdown",
      "source": [
        "5) Dado a lista p = [1, 16, 13, 6, 12, 14], escreva um código que ordene em modo crescente a lista."
      ],
      "metadata": {
        "id": "s1Cq9oTPlBt8"
      }
    },
    {
      "cell_type": "code",
      "source": [
        "#Resposta\n",
        "p = [1, 16, 13, 6, 12, 14]\n",
        "print(p)\n",
        "p.sort() # Organiza a variável/lista\n",
        "print(p)"
      ],
      "metadata": {
        "id": "kreMw2P8lji_",
        "colab": {
          "base_uri": "https://localhost:8080/"
        },
        "outputId": "6d8e078f-d5bf-44de-88a7-c02af8c196f4"
      },
      "execution_count": null,
      "outputs": [
        {
          "output_type": "stream",
          "name": "stdout",
          "text": [
            "[1, 16, 13, 6, 12, 14]\n",
            "[1, 6, 12, 13, 14, 16]\n"
          ]
        }
      ]
    },
    {
      "cell_type": "markdown",
      "source": [
        "6) Dado a lista p = [1, 16, 13, 6, 12, 14], escreva um código que ordene em modo decrescente a lista."
      ],
      "metadata": {
        "id": "xv8WhPaLll3e"
      }
    },
    {
      "cell_type": "code",
      "source": [
        "#Resposta\n",
        "p = [1, 16, 13, 6, 12, 14]\n",
        "sort = sorted(p, reverse = True) # Coloca a lista de forma Decrescente e atribui a lista na variável 'sort'\n",
        "print(sort)"
      ],
      "metadata": {
        "id": "qYEnDmZsllM4",
        "colab": {
          "base_uri": "https://localhost:8080/"
        },
        "outputId": "79d4bc9e-473e-4cf8-b788-102410951639"
      },
      "execution_count": null,
      "outputs": [
        {
          "output_type": "stream",
          "name": "stdout",
          "text": [
            "[16, 14, 13, 12, 6, 1]\n"
          ]
        }
      ]
    },
    {
      "cell_type": "markdown",
      "source": [
        "7) Qual dos comandos seguintes indica a chamada de um método de p?\n",
        "\n",
        "\n",
        "![img2.png](data:image/png;base64,iVBORw0KGgoAAAANSUhEUgAAAZEAAADdCAIAAAD1rtijAAAAAXNSR0IArs4c6QAAAARnQU1BAACxjwv8YQUAAAAJcEhZcwAADsMAAA7DAcdvqGQAABKASURBVHhe7d3Zc9Rlvsfxc8M/4I3F9ZRWURR1LqamBmeo47F0CtkUlSOBkUUQgksQw3IOGXJAhk2MCqiMGRg5YmSx2AYIWEQplmIdoIRhSQxZsSXpLJ096U4Hzid5HjJNh6YD3Ybfg+9Xfaurf0u3cvOu5+k04d9aG6vuMj9V+G8CgGfQLAAuoVkAXEKzALiEZgFwCc0C4BKaBcAlNAuAS2gWAJfQLAAuoVkAXEKzALiEZgFwCc0C4BInm1Va7nttVuaWnfvscWzHTp8bM2XWuQuXb9y4YU8BcFlymlUXqPH9WFpaXFBSlK9HPdcZey3Zjpw488SwcRs276hvaLSnYmtpbdt74JDu37prP9kCHgKJNqs9FFKhfNeK6mt/am7w6yV61HOd0Xldtfclie965cjxMw4ePWWPe0frrKdGT7pwucAeA3BWos1SmKoqyqJeZUbnddXelySfb9r+zoIVbcGgPe6dcLhj0cpPln6UzVILcF1CzercEl4rinpJ5OjqPW0Sm5pb0uYvUVza28M6vF5Z9cKktM07ck1rgqHQnIUrv/x6d9e9/3Ls9LlnX572141fDxwy6pHHBi9872O9j712S97h45PTMhoam+wxADcl1Cwto7QNjHpJ5HRuEu9xqVVYXPbMS1OUIWVr5Sd/eztjWUtrm7mkJ2/MW7xp+15z2E03PzpgyIbNO3TDD0WlI8alajlmr92ie3S+ujZgjwG4KaFmlRYXmM+wYo2u6h57d6/t/ubg2Gnp2/ccGJ6SWlrus2fv2iyts/zVteZQC64Fy1ZrP2gODZoFPBy82Ky2YHDeu1na5Sle9lSXuzQrske6Qbd1r84MmgU8HDy3N5Sm5hZFZ8DvRnR/kmXQLADe+gxeFKn1OdtenZnx3dGTTz438coPRfZC16XFWWtXZW+0x7dE9eiOe0OFLG3+kta220IGwDkJNUu0jKqqKI96lRmdv49F1oXLBea7VCrUmnU5ilfkd0cVshcnz6ysuq2DapY2kl9t29PR0VH+40+6IeozeL2D3qfnB/MAnJNos5L7ndKaQN3YaelaZ5ktYW1dfcr02Vo3KUbmBvNlCK22Ird+atazL0/7eH3OowOG9Os/KD1zReR3Hdrbw59+vklv2/0hPQB3Jdoso3OT2Fd/d0fpmZyWobXY0ZNnzZnuvWEwFGpsajYnjYKrJaMnvjU8JbWwuMyeAuCy5DSrj2npdOjYaY05vMvn61d+KNr/3dGoz+MBuMvJZkXRGir7i61RKywAD6WHoVkAfjloFgCX0CwALqFZAFxCswC4hGYBcAnNAuASmgXAJTQLgEtoFgCX0CwALqFZAFxCswC4hGYBcEmcZlX4/eFw5z+PCgBeEKdZ9QF/TaAu8h+/AYAHKE6zNMqWVlvaJDIMw/TB2DjFEL9ZDMMwfTk2TjHQLIZhvDU2TjHQLIZhvDU2TjHQLIZhvDU2TjHQLIZhvDU2TjHQLIZhvDU2TjHQLIZhvDU2TjHQLIZhvDU2TjHEbxbfKWUYpi/HximGOM1SsCqratqCQf76DgAviNMsrbBCoZC9FwAetDjNirtOA4C+RLMAuIRmAXAJzQLgEpoFwCU0C4BLaBYAl9AsAC6hWQBcQrMAuIRmAXAJzQLgEpoFwCU0C4BLaBYAl/xSmtUWDG7ZuW986tzq2oAOW1rbZv1p+arsjU3NLeYGAE5ITrPqAjW+H0tLiwtKivL1qOc6Y695gMKUnrnildfnXbxS2NHRoTM3btwoLffNWbgyZfrsCn+1uQ2A9yXarPZQSIXyXSuqr/2pucGvl+hRz3VG53XV3vfgKE/rc7bNmLOo55JKi68Fy1ZnLl/d3h62pwB4W6LNUpiqKsqiXmVG53XV3vfg6I/w/IQ3T5/7pz2+3aX8q38YM7Xgaok9BuBtCTWrc0t4rSjqJZGjq/e6SVzy4WdzF72/8L2PH3ls8MAho3bt+/bu/3yGrm7ekfvCpLTrlZ3/xJBWTEs/yk6bv6R7VXX2/CU1y19daw6jNDQ2TU7LyDt83B4D8LaEmqVllLaBUS+JnM5N4j0utdSsJ5+beOrshWAotPubg78dOlZLIXsthpbWtrczlmV9uiEc7jh8/B/PvDSlsLjMXrt589jpcyPGpZqP3nvSa9+Yt3jT9r32GIC3JdSs0uIC8xlWrNFV3WPv7h01a3HWWrO26v0iqLTcNzwldfueA2Onpat09mwXmgU8TLzYLI15fk9BUaq0nZz3blZbMGhPdaFZwMPEi3vD+2iW1mVfbdvz+OBhMzOWRv18kGYBDxMvfgbf3ayee0O1qa6+UaGxx7dcuFzw1OhJh46dTpk+W/GK/Ng+v7D4+Qlvll3z2ePbVdUEdPXkmfP2GIC3JdQs0TKqqqI86lVmdP5eF1miYP1+xHjz5c9vj5zQ88jP4L+/eOVXvxk6PnVufUOjPXXzpp6/OjNjfc42perM9xf1EiXMXuv6QunUWQtiraQOHDo2PCU17h8TgEck2qykf6dUzZq76P30zBX9+g96dMCQrbv2Ry6aejZLaVuVvVHNMmd085p1OVqdBeobzA1ifph49vwle3xLYXHZyPEz9J+wxwA8L9FmGZ2bxCT93Z3uvWFjU3PwTslrbWu716+tK2Q7c/MGDhmVuXy13lZn9M6ffr7p8cHD9MiX4AGHJKdZSdTdrKTTn+XLr3eb5ZjCt2NvXmm5L3IRB8D7PNes3LzDGnsAALfzXLMA4C5oFgCX0CwALqFZAFxCswC4hGYBcAnNAuASmgXAJTQLgEtoFgCX0CwALqFZAFxCswC4hGYBcEmcZlX4/eEwvxIPgFfEaVZ9wF8TqOMX4wHwiDjN0ihbWm1pk8gwDNMHY+MUQ/xmMQzD9OXYOMVAsxiG8dbYOMVAsxiG8dbYOMVAsxiG8dbYOMVAsxiG8dbYOMVAsxiG8dbYOMVAsxiG8dbYOMUQv1l8P4thmL4cG6cY4jRLwaqsqmkLBvkqPAAviNMsrbBCoZC9FwAetDjNirtOA4C+RLMAuIRmAXAJzQLgEpoFwCU0C4BLaBYAl9AsAC6hWQBcQrMAuIRmAXAJzQLgEpoFwCU0C4BLaBYAl7jXrJNnzhcWl9kDAL8wyWlWS3NTZYWvvLSwpChfj3quM/Zasm3avvfY6XP2oNfagsEtO/eNT51bXRvQYUtr26w/LV+VvbGpucXcAMAJSWhWdVVFaUlBbdWPDYHreoke9VxndN7ekSQdHR0nznw/ddaC/178wZUfinr/654VpvTMFa+8Pu/ilUK9ic7otaXlvjkLV6ZMn13hrza3AfC+RJulMPmuFTU3+KNeqDM6n8RshcMdWZ9ueOalKX+cMXfSW/P//T9Hb9213167K+Vpfc62GXMW9VxSafG1YNnqzOWr29vD9hQAb0uoWdoAaj3VM1hmdF5Xk7VJLLvmGzEu9cLlArM33JmbNzkto6Ex/pvrj/D8hDdPn/unPb7dpfyrfxgzteBqiT0G4G0JNauywqdtYNRLIkdXdY+9u3eWfPjZ3EXvL3zv40ceGzxwyKhd+741e0Bl5dmXp+UXFptmBUOh2rp6bfR0dfOO3BcmpV2v7Pxn0bRiWvpRdtr8Jd2rqrPnL6lZ/upacxhF1VP78g4ft8cAvC2hZpWXFprPsGKNruoee3fvqFlPPjfx1NkLqtLubw7+duhYLYV0Xg2aOmuBtngfrN0Q9Rl8S2vb2xnLtHPU/vHw8X9o/xj5g0XdrAWa+ei9J732jXmL1UF7DMDbEmpWSVF+1P09R/fYu3tHzVqctdasraIWQdoejkud06//oKH/9Zr2hpEfQpWW+4anpG7fc2DstHSVzp7tQrOAh4kX11ka87xnUNSyL7bsSs9c8eunx6xZl2PSZihV2k7OezerLRi0p7rQLOBh4sXPs+7SLNGhMnTg0LHnJ7xZVWNLpHh9tW3P44OHzcxYGvXzQZoFPEwSatbP8XPDyGZF7g1z8w5nLl+txJhm5RcWq1naLZo7L1wueGr0pEPHTqdMn614Ra6/ou6Mourp6skz5+0xAG9LqFmS9O9nKVi/HzHefPnz2yMn9Nx8Bq9HPd974NDGrX/XImtx1lqtj5QwXapvaHx1Zsb6nG1K1ZnvL+o2JazrzTqZD+9jraT0VsNTUuP+MQF4RKLNEoVJ6yltA81nW3rUc525vy+UqllzF72fnrmiX/9Bjw4YsnXXfrNo0uPBo6eeGDZO5zWK1DXfdZ1X2lZlb9ShymVuW7MuR6uzQH1D59t1MT9MPHv+kj2+pbC4bOT4Gb38bioAL0hCs0QbwMok/X3D7r1hY1NzMBQyJ7spSV9s2XXkxBl73Dt61c7cvIFDRml3qbfVGb3zp59venzwMD3yJXjAIclpVhJ1NysW83mWPbgX+rN8+fVusxxrbWvbsTevtNxnFnEAXOG5ZuXmHdbYAwC4neeaBQB3QbMAuIRmAXAJzQLgEpoFwCU0C4BLaBYAl9AsAC6hWQBcQrMAuIRmAXAJzQLgEpoFwCU0C4BL4jSrwu8Ph/mVeAC8Ik6z6gP+mkAdvxgPgEfEaZZG2dJqS5tEhmGYPhgbpxjiN4thGKYvx8YpBprFMIy3xsYpBprFMIy3xsYpBprFMIy3xsYpBprFMIy3xsYpBprFMIy3xsYpBprFMIy3xsYphvjN4vtZDMP05dg4xRCnWQpWZVVNWzDIV+EBeEGcZmmFFQqF7L0A8KDFaVbcdRoA9CWaBcAlNAuAS2gWAJfQLAAuoVkAXEKzALiEZgFwCc0C4BKaBcAlNAuAS2gWAJfQLAAuoVkAXEKzALjkF9Gsxqbm3LzDQX4RGOC+5DSrpbmpssJXXlpYUpSvRz3XGXvtZ1Ba7nttVuaWnfvMYXVtYHzqXB22BYPmTBTdsOTDz1pa2+wxAGcloVnVVRWlJQW1VT82BK7rJXrUc53ReXtHUh05ceaJYeM2bN5R39BoznR0dFy8UvjK6/PSM1c0NbeYk90UrM/+b+tzr7yxddf+nlcBuCXRZilMvmtFzQ3+qBfqjM4nPVu+65Ujx884ePSUPY4QqG+YnJaxPmdb5K+uLywuGzLyj6mzF6pZL06eOWbKLH91rb0GwEEJNUsbQK2negbLjM7ranI3iZ9v2v7OghWx9oDfHT35/IQ3q2oC9vjmzVXZGxcsW11ZVaO9oXqnZuUdPm6vAXBQQs2qrPBpGxj1ksjRVd1j7+4F7d3S5i9Z+lF2e3tYh9crq16YlLZ5R65ZOgVDoTkLV3759e6ue+9A/7ejJ7514XKBPb55U6lanLVWFdMTvXldfaP5VKvgasnwlFQVUNvMfv0HTXvnf1l/AU5IqFnlpYXmM6xYo6u6x97dO9rNPfPSlGOnzylbKz/529sZy7o/O9eTN+Yt3rR9rznsqbo2MGJcql5rj7tWXgN+N2LD5h0qV+Rn8GrWb4eOVcjqGxr1Z5w6a8GilZ+Ewx32MgCvSqhZJUX5Uff3HN1j7+613d8cHDstffueA1oKlZb/a5l2H81S+DZu/fuvfjNUozXaNd91c17NevblafmFxeZQG8bJaRkNjT/jzzoBJIXn1lnSFgzOezfrkccGK172VJf7aJZR4a9Onb1Qi6knn5toImj2hno0N+gleqFebg4BeJa3Ps8ymppb1Cbt6bo/yTLuu1k6r22gyvXqzAzzcpoFOCqhZv0cPzdUpNbnbFNcvjt6UsuiKz8U2QtdlxZnrV2VvdEe96AGjRw/42pJmTmsq29U406dvWCapRR2vzyqWewNAVck1CxJ+vezLlwueGr0JD2qUGvW5She3d8dFYXsxckzK6tq7HEEEzttALu/OBoOdyxa+cmMOYsuXin88wd/OXTs9NMvvnrkxBldUq1+/fSYFWvWaR9aW1f/1v/8mc/gASck2ixRmLSe0jbQfLalRz3XmfsIVk2gbuy09O7vhaomKdNn/3Xj1x0dtibmyxBRPwQ0Tpz5/j9GTYjaGOoNM5Z89Mhjg/v1HzRwyKgtO/eZb1GYddZfNmzRSV3Sf0U7R/MSAF6WhGaJNoCVffX3Df3VtdrHaS129ORZc6axqTlz+WrVZ2dunoldFPVo4XsfN7e02uOIvaESpi3hHV8FwIOS06w+ptBoo6cxh9o8bt21/44bRsN8nhX1/azIz7MAuMLJZiXuemVV9hdb9WiPATjiF9osAI6iWQBcQrMAuIRmAXAJzQLgEpoFwCU0C4BLaBYAl9AsAC6hWQBcQrMAuIRmAXAJzQLgEpoFwCVxmlXh94fDnb/YEwC8IE6z6gP+mkAdv8YTgEfEaZZG2dJqS5tEhmGYPhgbpxjiN4thGKYvx8bpjm7e/H83Pd+nd5hJdgAAAABJRU5ErkJggg==)"
      ],
      "metadata": {
        "id": "y_nl4USqltkl"
      }
    },
    {
      "cell_type": "markdown",
      "source": [
        "resposta: x(p)"
      ],
      "metadata": {
        "id": "MDIvs5GUmWiV"
      }
    },
    {
      "cell_type": "markdown",
      "source": [
        "8) o código seguinte exibe o valor 6. Qual comando deve está no quadradinho para isso ?\n",
        "\n",
        "![img3.png](data:image/png;base64,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)"
      ],
      "metadata": {
        "id": "136xWITomX9O"
      }
    },
    {
      "cell_type": "code",
      "source": [
        "#resposta:\n",
        "q = [48, 34, 6, 30, 13, 33]\n",
        "print(q[2])"
      ],
      "metadata": {
        "id": "txqEaJ4qnXil",
        "colab": {
          "base_uri": "https://localhost:8080/"
        },
        "outputId": "81731f0b-6181-4fec-f07b-733fd49a8a27"
      },
      "execution_count": null,
      "outputs": [
        {
          "output_type": "stream",
          "name": "stdout",
          "text": [
            "6\n"
          ]
        }
      ]
    },
    {
      "cell_type": "markdown",
      "source": [
        "9) O que a operação np.array([True, 1, 2]) + np.array([3, 4, False]) retorna ? Tente responder sem executar código."
      ],
      "metadata": {
        "id": "peu28_9knalF"
      }
    },
    {
      "cell_type": "markdown",
      "source": [
        "Resposta: [True, 1, 2, 3, 4, False]"
      ],
      "metadata": {
        "id": "--suauGopW0U"
      }
    },
    {
      "cell_type": "markdown",
      "source": [
        "10) Substitua N1 e N2 por valores que permitam o print do número zero. N1 não é igual a N2."
      ],
      "metadata": {
        "id": "dh5nR1oLpbft"
      }
    },
    {
      "cell_type": "code",
      "source": [
        "x = [True, 100, 1, 0, False]\n",
        "a = x[3]\n",
        "b = - x[4]\n",
        "print(a + b)\n",
        "print([a,b])"
      ],
      "metadata": {
        "id": "BZPAyb5zpbGJ",
        "colab": {
          "base_uri": "https://localhost:8080/"
        },
        "outputId": "cd6ab9e9-36d8-4054-d33e-7e4ee0455106"
      },
      "execution_count": null,
      "outputs": [
        {
          "output_type": "stream",
          "name": "stdout",
          "text": [
            "0\n",
            "[0, 0]\n"
          ]
        }
      ]
    }
  ]
}